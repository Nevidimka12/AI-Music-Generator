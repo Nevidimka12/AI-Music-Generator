{
 "cells": [
  {
   "cell_type": "markdown",
   "id": "98cacd63",
   "metadata": {},
   "source": [
    "# Создание датасета с векторным представлением аккордов"
   ]
  },
  {
   "cell_type": "markdown",
   "id": "19879dc4",
   "metadata": {},
   "source": [
    "## Импорт библиотек"
   ]
  },
  {
   "cell_type": "code",
   "execution_count": null,
   "id": "7c08d05d",
   "metadata": {},
   "outputs": [],
   "source": [
    "import json\n",
    "from gensim.models import Word2Vec\n",
    "from tqdm import tqdm\n",
    "import pandas as pd"
   ]
  },
  {
   "cell_type": "markdown",
   "id": "711625f9",
   "metadata": {},
   "source": [
    "## Загружаем модель chord2vec"
   ]
  },
  {
   "cell_type": "code",
   "execution_count": 104,
   "id": "a28d5e61",
   "metadata": {},
   "outputs": [],
   "source": [
    "from gensim.models import Word2Vec\n",
    "model = Word2Vec.load('chord2vecFiltData')"
   ]
  },
  {
   "cell_type": "markdown",
   "id": "429c7a37",
   "metadata": {},
   "source": [
    "## Загружаем данные для обработки"
   ]
  },
  {
   "cell_type": "markdown",
   "id": "e635d954",
   "metadata": {},
   "source": [
    "### Загрузка всего набора данных"
   ]
  },
  {
   "cell_type": "code",
   "execution_count": null,
   "id": "5b5f1682",
   "metadata": {},
   "outputs": [],
   "source": [
    "# file = open(\"D:/muz/musicDrumBeats/Chordino.json\")\n",
    "# f = json.load(file)\n",
    "# file = open(\"D:/muz/musicGitar/Chordino.json\")\n",
    "# f.update(json.load(file))\n",
    "# file = open(\"D:/muz/musicPiano/Chordino.json\")\n",
    "# f = json.load(file)\n",
    "# file = open(\"D:/muz/musicSaxophone/Chordino.json\")\n",
    "# f.update(json.load(file))\n",
    "# file = open(\"D:/muz/musicYixInstrumental/Chordino.json\")\n",
    "# f.update(json.load(file))\n",
    "# data = f"
   ]
  },
  {
   "cell_type": "markdown",
   "id": "1043f3e4",
   "metadata": {},
   "source": [
    "### Загрузка отфильтрованных данных"
   ]
  },
  {
   "cell_type": "code",
   "execution_count": 162,
   "id": "81ff03bb",
   "metadata": {},
   "outputs": [],
   "source": [
    "file = open(\"data_new_filtr078.json\")\n",
    "data = json.load(file)"
   ]
  },
  {
   "cell_type": "markdown",
   "id": "8e541082",
   "metadata": {},
   "source": [
    "## обработка последовательностей"
   ]
  },
  {
   "cell_type": "markdown",
   "id": "0bbf14fa",
   "metadata": {},
   "source": [
    "### Чистим мелодии в которых аккордов меньше 30."
   ]
  },
  {
   "cell_type": "code",
   "execution_count": 163,
   "id": "64c32555",
   "metadata": {},
   "outputs": [],
   "source": [
    "Fulldata = []\n",
    "for i in data.keys():\n",
    "    if(len(data[i]) >= 60):\n",
    "        Fulldata.append(data[i])"
   ]
  },
  {
   "cell_type": "markdown",
   "id": "032dee7a",
   "metadata": {},
   "source": [
    "### Разделям последовательности, на подпоследовательности длинной в 30 аккордов и 30 длительностей"
   ]
  },
  {
   "cell_type": "code",
   "execution_count": 188,
   "id": "380cdb68",
   "metadata": {},
   "outputs": [],
   "source": [
    "n = 16\n",
    "res = []\n",
    "for data in Fulldata:\n",
    "    res += [data[i:i+n] for i in range(0, len(data)-n+1, 2)]"
   ]
  },
  {
   "cell_type": "markdown",
   "id": "90acda54",
   "metadata": {},
   "source": [
    "### Кодируем аккорды векторами из word2vec модели(кроме последнего), и сохраняем в новую переменную df."
   ]
  },
  {
   "cell_type": "code",
   "execution_count": 189,
   "id": "5850ba70",
   "metadata": {},
   "outputs": [
    {
     "name": "stderr",
     "output_type": "stream",
     "text": [
      "100%|█████████████████████████████████████████████████████████████████████████| 29359/29359 [00:02<00:00, 11960.37it/s]\n"
     ]
    }
   ],
   "source": [
    "from tqdm import tqdm\n",
    "target = []\n",
    "df = []\n",
    "for i in tqdm(res):\n",
    "    target.append((i[14], i[15]))\n",
    "    d = []\n",
    "    for j in i[:14]:\n",
    "        if j in model.wv.key_to_index.keys():\n",
    "            d += list(model.wv[j])\n",
    "        else:\n",
    "            d.append(j)\n",
    "    df.append(d)\n",
    "#     df.append(i[:14])\n",
    "    "
   ]
  },
  {
   "cell_type": "markdown",
   "id": "f34e39d8",
   "metadata": {},
   "source": [
    "### Добавляем последние аккорды в df (столбцы target`ов)"
   ]
  },
  {
   "cell_type": "code",
   "execution_count": 190,
   "id": "02fe07c6",
   "metadata": {},
   "outputs": [],
   "source": [
    "for i in range(len(df)):\n",
    "    df[i].append(target[i][0])\n",
    "    df[i].append(target[i][1])"
   ]
  },
  {
   "cell_type": "markdown",
   "id": "fd3d906e",
   "metadata": {},
   "source": [
    "## Конвертируем полученный двумерный массив в сsv файл и сохраняем."
   ]
  },
  {
   "cell_type": "code",
   "execution_count": 191,
   "id": "55dd97e7",
   "metadata": {},
   "outputs": [],
   "source": [
    "import pandas as pd"
   ]
  },
  {
   "cell_type": "code",
   "execution_count": 192,
   "id": "d1404dce",
   "metadata": {},
   "outputs": [],
   "source": [
    "dataframe = pd.DataFrame(df)"
   ]
  },
  {
   "cell_type": "code",
   "execution_count": 193,
   "id": "a7dea511",
   "metadata": {},
   "outputs": [
    {
     "data": {
      "text/html": [
       "<div>\n",
       "<style scoped>\n",
       "    .dataframe tbody tr th:only-of-type {\n",
       "        vertical-align: middle;\n",
       "    }\n",
       "\n",
       "    .dataframe tbody tr th {\n",
       "        vertical-align: top;\n",
       "    }\n",
       "\n",
       "    .dataframe thead th {\n",
       "        text-align: right;\n",
       "    }\n",
       "</style>\n",
       "<table border=\"1\" class=\"dataframe\">\n",
       "  <thead>\n",
       "    <tr style=\"text-align: right;\">\n",
       "      <th></th>\n",
       "      <th>0</th>\n",
       "      <th>1</th>\n",
       "      <th>2</th>\n",
       "      <th>3</th>\n",
       "      <th>4</th>\n",
       "      <th>5</th>\n",
       "      <th>6</th>\n",
       "      <th>7</th>\n",
       "      <th>8</th>\n",
       "      <th>9</th>\n",
       "      <th>...</th>\n",
       "      <th>699</th>\n",
       "      <th>700</th>\n",
       "      <th>701</th>\n",
       "      <th>702</th>\n",
       "      <th>703</th>\n",
       "      <th>704</th>\n",
       "      <th>705</th>\n",
       "      <th>706</th>\n",
       "      <th>707</th>\n",
       "      <th>708</th>\n",
       "    </tr>\n",
       "  </thead>\n",
       "  <tbody>\n",
       "    <tr>\n",
       "      <th>0</th>\n",
       "      <td>-0.107933</td>\n",
       "      <td>0.078614</td>\n",
       "      <td>-0.017387</td>\n",
       "      <td>0.164854</td>\n",
       "      <td>0.069374</td>\n",
       "      <td>-0.097897</td>\n",
       "      <td>0.192984</td>\n",
       "      <td>0.279380</td>\n",
       "      <td>-0.258575</td>\n",
       "      <td>-0.243175</td>\n",
       "      <td>...</td>\n",
       "      <td>-0.203128</td>\n",
       "      <td>0.282263</td>\n",
       "      <td>0.193275</td>\n",
       "      <td>0.272685</td>\n",
       "      <td>-0.208255</td>\n",
       "      <td>-0.015003</td>\n",
       "      <td>0.041496</td>\n",
       "      <td>3.808073</td>\n",
       "      <td>G</td>\n",
       "      <td>4.365351</td>\n",
       "    </tr>\n",
       "    <tr>\n",
       "      <th>1</th>\n",
       "      <td>-0.150987</td>\n",
       "      <td>0.123017</td>\n",
       "      <td>-0.029146</td>\n",
       "      <td>0.312946</td>\n",
       "      <td>0.304819</td>\n",
       "      <td>-0.181564</td>\n",
       "      <td>0.532081</td>\n",
       "      <td>0.484460</td>\n",
       "      <td>-0.595567</td>\n",
       "      <td>-0.640385</td>\n",
       "      <td>...</td>\n",
       "      <td>-0.654997</td>\n",
       "      <td>0.705033</td>\n",
       "      <td>0.415587</td>\n",
       "      <td>0.649226</td>\n",
       "      <td>-0.597946</td>\n",
       "      <td>0.170293</td>\n",
       "      <td>0.268134</td>\n",
       "      <td>4.365351</td>\n",
       "      <td>Em</td>\n",
       "      <td>4.551111</td>\n",
       "    </tr>\n",
       "    <tr>\n",
       "      <th>2</th>\n",
       "      <td>-0.002452</td>\n",
       "      <td>0.087851</td>\n",
       "      <td>0.029628</td>\n",
       "      <td>0.216965</td>\n",
       "      <td>0.129866</td>\n",
       "      <td>-0.121652</td>\n",
       "      <td>0.228339</td>\n",
       "      <td>0.253636</td>\n",
       "      <td>-0.228816</td>\n",
       "      <td>-0.247632</td>\n",
       "      <td>...</td>\n",
       "      <td>-0.274381</td>\n",
       "      <td>0.358218</td>\n",
       "      <td>0.202193</td>\n",
       "      <td>0.576956</td>\n",
       "      <td>-0.523970</td>\n",
       "      <td>0.114061</td>\n",
       "      <td>0.083895</td>\n",
       "      <td>4.551111</td>\n",
       "      <td>Fmaj7</td>\n",
       "      <td>5.201270</td>\n",
       "    </tr>\n",
       "    <tr>\n",
       "      <th>3</th>\n",
       "      <td>-0.251732</td>\n",
       "      <td>0.190104</td>\n",
       "      <td>-0.048608</td>\n",
       "      <td>0.535927</td>\n",
       "      <td>0.297761</td>\n",
       "      <td>0.193033</td>\n",
       "      <td>0.351835</td>\n",
       "      <td>0.479407</td>\n",
       "      <td>-0.669690</td>\n",
       "      <td>-0.424112</td>\n",
       "      <td>...</td>\n",
       "      <td>-0.304939</td>\n",
       "      <td>0.598497</td>\n",
       "      <td>0.151609</td>\n",
       "      <td>0.474967</td>\n",
       "      <td>-0.472552</td>\n",
       "      <td>0.323630</td>\n",
       "      <td>0.070127</td>\n",
       "      <td>5.201270</td>\n",
       "      <td>Am</td>\n",
       "      <td>6.687347</td>\n",
       "    </tr>\n",
       "    <tr>\n",
       "      <th>4</th>\n",
       "      <td>-0.176404</td>\n",
       "      <td>0.225694</td>\n",
       "      <td>-0.049641</td>\n",
       "      <td>0.516211</td>\n",
       "      <td>0.282891</td>\n",
       "      <td>0.263275</td>\n",
       "      <td>0.190141</td>\n",
       "      <td>0.394450</td>\n",
       "      <td>-0.457227</td>\n",
       "      <td>-0.174002</td>\n",
       "      <td>...</td>\n",
       "      <td>-0.399139</td>\n",
       "      <td>0.485845</td>\n",
       "      <td>0.187864</td>\n",
       "      <td>0.604728</td>\n",
       "      <td>-0.503701</td>\n",
       "      <td>0.096247</td>\n",
       "      <td>0.149028</td>\n",
       "      <td>6.687347</td>\n",
       "      <td>Dm</td>\n",
       "      <td>2.693515</td>\n",
       "    </tr>\n",
       "  </tbody>\n",
       "</table>\n",
       "<p>5 rows × 709 columns</p>\n",
       "</div>"
      ],
      "text/plain": [
       "        0         1         2         3         4         5         6    \\\n",
       "0 -0.107933  0.078614 -0.017387  0.164854  0.069374 -0.097897  0.192984   \n",
       "1 -0.150987  0.123017 -0.029146  0.312946  0.304819 -0.181564  0.532081   \n",
       "2 -0.002452  0.087851  0.029628  0.216965  0.129866 -0.121652  0.228339   \n",
       "3 -0.251732  0.190104 -0.048608  0.535927  0.297761  0.193033  0.351835   \n",
       "4 -0.176404  0.225694 -0.049641  0.516211  0.282891  0.263275  0.190141   \n",
       "\n",
       "        7         8         9    ...       699       700       701       702  \\\n",
       "0  0.279380 -0.258575 -0.243175  ... -0.203128  0.282263  0.193275  0.272685   \n",
       "1  0.484460 -0.595567 -0.640385  ... -0.654997  0.705033  0.415587  0.649226   \n",
       "2  0.253636 -0.228816 -0.247632  ... -0.274381  0.358218  0.202193  0.576956   \n",
       "3  0.479407 -0.669690 -0.424112  ... -0.304939  0.598497  0.151609  0.474967   \n",
       "4  0.394450 -0.457227 -0.174002  ... -0.399139  0.485845  0.187864  0.604728   \n",
       "\n",
       "        703       704       705       706    707       708  \n",
       "0 -0.208255 -0.015003  0.041496  3.808073      G  4.365351  \n",
       "1 -0.597946  0.170293  0.268134  4.365351     Em  4.551111  \n",
       "2 -0.523970  0.114061  0.083895  4.551111  Fmaj7  5.201270  \n",
       "3 -0.472552  0.323630  0.070127  5.201270     Am  6.687347  \n",
       "4 -0.503701  0.096247  0.149028  6.687347     Dm  2.693515  \n",
       "\n",
       "[5 rows x 709 columns]"
      ]
     },
     "execution_count": 193,
     "metadata": {},
     "output_type": "execute_result"
    }
   ],
   "source": [
    "dataframe.head()"
   ]
  },
  {
   "cell_type": "code",
   "execution_count": 194,
   "id": "d66c4073",
   "metadata": {},
   "outputs": [
    {
     "data": {
      "text/plain": [
       "(29359, 709)"
      ]
     },
     "execution_count": 194,
     "metadata": {},
     "output_type": "execute_result"
    }
   ],
   "source": [
    "dataframe.shape"
   ]
  },
  {
   "cell_type": "markdown",
   "id": "8599ba29",
   "metadata": {},
   "source": [
    "## Делим данные на train и test (соотношение 70/30), для обучения и оценивания моделей в будующем"
   ]
  },
  {
   "cell_type": "code",
   "execution_count": null,
   "id": "56e4a96f",
   "metadata": {},
   "outputs": [],
   "source": [
    "dataframe.rename(columns = {707 : 'Chord_target', 708: \"Duration_target\"}, inplace = True )\n",
    "dataframe = dataframe.sample(frac=1).reset_index(drop=True)\n",
    "Train = dataframe.loc[:int(len(dataframe)*0.7)]\n",
    "Test = dataframe.loc[int(len(dataframe)*0.7):]"
   ]
  },
  {
   "cell_type": "code",
   "execution_count": 200,
   "id": "48a60d19",
   "metadata": {},
   "outputs": [
    {
     "data": {
      "text/html": [
       "<div>\n",
       "<style scoped>\n",
       "    .dataframe tbody tr th:only-of-type {\n",
       "        vertical-align: middle;\n",
       "    }\n",
       "\n",
       "    .dataframe tbody tr th {\n",
       "        vertical-align: top;\n",
       "    }\n",
       "\n",
       "    .dataframe thead th {\n",
       "        text-align: right;\n",
       "    }\n",
       "</style>\n",
       "<table border=\"1\" class=\"dataframe\">\n",
       "  <thead>\n",
       "    <tr style=\"text-align: right;\">\n",
       "      <th></th>\n",
       "      <th>0</th>\n",
       "      <th>1</th>\n",
       "      <th>2</th>\n",
       "      <th>3</th>\n",
       "      <th>4</th>\n",
       "      <th>5</th>\n",
       "      <th>6</th>\n",
       "      <th>7</th>\n",
       "      <th>8</th>\n",
       "      <th>9</th>\n",
       "      <th>...</th>\n",
       "      <th>699</th>\n",
       "      <th>700</th>\n",
       "      <th>701</th>\n",
       "      <th>702</th>\n",
       "      <th>703</th>\n",
       "      <th>704</th>\n",
       "      <th>705</th>\n",
       "      <th>706</th>\n",
       "      <th>Chord_target</th>\n",
       "      <th>Duration_target</th>\n",
       "    </tr>\n",
       "  </thead>\n",
       "  <tbody>\n",
       "    <tr>\n",
       "      <th>0</th>\n",
       "      <td>-0.024530</td>\n",
       "      <td>0.204351</td>\n",
       "      <td>-0.055283</td>\n",
       "      <td>-0.020493</td>\n",
       "      <td>0.172326</td>\n",
       "      <td>-0.659137</td>\n",
       "      <td>0.368719</td>\n",
       "      <td>0.602145</td>\n",
       "      <td>-0.000755</td>\n",
       "      <td>-0.344135</td>\n",
       "      <td>...</td>\n",
       "      <td>-0.034031</td>\n",
       "      <td>0.560622</td>\n",
       "      <td>0.425777</td>\n",
       "      <td>0.022394</td>\n",
       "      <td>0.000091</td>\n",
       "      <td>-0.259136</td>\n",
       "      <td>-0.306072</td>\n",
       "      <td>1.671837</td>\n",
       "      <td>Cm</td>\n",
       "      <td>3.343673</td>\n",
       "    </tr>\n",
       "    <tr>\n",
       "      <th>1</th>\n",
       "      <td>0.026840</td>\n",
       "      <td>0.199608</td>\n",
       "      <td>0.019243</td>\n",
       "      <td>0.028806</td>\n",
       "      <td>-0.108556</td>\n",
       "      <td>-0.261151</td>\n",
       "      <td>-0.141279</td>\n",
       "      <td>0.344019</td>\n",
       "      <td>0.236750</td>\n",
       "      <td>0.134177</td>\n",
       "      <td>...</td>\n",
       "      <td>-0.335917</td>\n",
       "      <td>0.516764</td>\n",
       "      <td>0.266018</td>\n",
       "      <td>0.353768</td>\n",
       "      <td>-0.286438</td>\n",
       "      <td>0.170008</td>\n",
       "      <td>0.110870</td>\n",
       "      <td>16.625488</td>\n",
       "      <td>Bb6</td>\n",
       "      <td>1.671837</td>\n",
       "    </tr>\n",
       "    <tr>\n",
       "      <th>2</th>\n",
       "      <td>-0.223976</td>\n",
       "      <td>0.167835</td>\n",
       "      <td>-0.029918</td>\n",
       "      <td>0.547772</td>\n",
       "      <td>0.163190</td>\n",
       "      <td>0.257951</td>\n",
       "      <td>0.180622</td>\n",
       "      <td>0.410999</td>\n",
       "      <td>-0.545001</td>\n",
       "      <td>-0.229364</td>\n",
       "      <td>...</td>\n",
       "      <td>-0.561196</td>\n",
       "      <td>0.675920</td>\n",
       "      <td>0.464230</td>\n",
       "      <td>0.469520</td>\n",
       "      <td>-0.417726</td>\n",
       "      <td>0.051889</td>\n",
       "      <td>0.211325</td>\n",
       "      <td>4.086712</td>\n",
       "      <td>C</td>\n",
       "      <td>3.993832</td>\n",
       "    </tr>\n",
       "    <tr>\n",
       "      <th>3</th>\n",
       "      <td>-0.208511</td>\n",
       "      <td>-0.013439</td>\n",
       "      <td>-0.010159</td>\n",
       "      <td>0.211018</td>\n",
       "      <td>-0.129602</td>\n",
       "      <td>0.056328</td>\n",
       "      <td>0.025167</td>\n",
       "      <td>0.341366</td>\n",
       "      <td>-0.364835</td>\n",
       "      <td>-0.284785</td>\n",
       "      <td>...</td>\n",
       "      <td>-0.446547</td>\n",
       "      <td>0.615506</td>\n",
       "      <td>0.261426</td>\n",
       "      <td>0.488252</td>\n",
       "      <td>-0.411222</td>\n",
       "      <td>0.254105</td>\n",
       "      <td>0.165383</td>\n",
       "      <td>0.835918</td>\n",
       "      <td>Gm7</td>\n",
       "      <td>0.650159</td>\n",
       "    </tr>\n",
       "    <tr>\n",
       "      <th>4</th>\n",
       "      <td>0.050972</td>\n",
       "      <td>0.059549</td>\n",
       "      <td>0.014207</td>\n",
       "      <td>0.028896</td>\n",
       "      <td>0.211882</td>\n",
       "      <td>-0.435204</td>\n",
       "      <td>0.420850</td>\n",
       "      <td>0.363777</td>\n",
       "      <td>-0.155241</td>\n",
       "      <td>-0.391024</td>\n",
       "      <td>...</td>\n",
       "      <td>-0.561196</td>\n",
       "      <td>0.675920</td>\n",
       "      <td>0.464230</td>\n",
       "      <td>0.469520</td>\n",
       "      <td>-0.417726</td>\n",
       "      <td>0.051889</td>\n",
       "      <td>0.211325</td>\n",
       "      <td>3.715193</td>\n",
       "      <td>G7</td>\n",
       "      <td>0.928798</td>\n",
       "    </tr>\n",
       "  </tbody>\n",
       "</table>\n",
       "<p>5 rows × 709 columns</p>\n",
       "</div>"
      ],
      "text/plain": [
       "          0         1         2         3         4         5         6  \\\n",
       "0 -0.024530  0.204351 -0.055283 -0.020493  0.172326 -0.659137  0.368719   \n",
       "1  0.026840  0.199608  0.019243  0.028806 -0.108556 -0.261151 -0.141279   \n",
       "2 -0.223976  0.167835 -0.029918  0.547772  0.163190  0.257951  0.180622   \n",
       "3 -0.208511 -0.013439 -0.010159  0.211018 -0.129602  0.056328  0.025167   \n",
       "4  0.050972  0.059549  0.014207  0.028896  0.211882 -0.435204  0.420850   \n",
       "\n",
       "          7         8         9  ...       699       700       701       702  \\\n",
       "0  0.602145 -0.000755 -0.344135  ... -0.034031  0.560622  0.425777  0.022394   \n",
       "1  0.344019  0.236750  0.134177  ... -0.335917  0.516764  0.266018  0.353768   \n",
       "2  0.410999 -0.545001 -0.229364  ... -0.561196  0.675920  0.464230  0.469520   \n",
       "3  0.341366 -0.364835 -0.284785  ... -0.446547  0.615506  0.261426  0.488252   \n",
       "4  0.363777 -0.155241 -0.391024  ... -0.561196  0.675920  0.464230  0.469520   \n",
       "\n",
       "        703       704       705        706  Chord_target  Duration_target  \n",
       "0  0.000091 -0.259136 -0.306072   1.671837            Cm         3.343673  \n",
       "1 -0.286438  0.170008  0.110870  16.625488           Bb6         1.671837  \n",
       "2 -0.417726  0.051889  0.211325   4.086712             C         3.993832  \n",
       "3 -0.411222  0.254105  0.165383   0.835918           Gm7         0.650159  \n",
       "4 -0.417726  0.051889  0.211325   3.715193            G7         0.928798  \n",
       "\n",
       "[5 rows x 709 columns]"
      ]
     },
     "execution_count": 200,
     "metadata": {},
     "output_type": "execute_result"
    }
   ],
   "source": [
    "dataframe.head()"
   ]
  },
  {
   "cell_type": "code",
   "execution_count": 201,
   "id": "5559f86d",
   "metadata": {},
   "outputs": [
    {
     "name": "stdout",
     "output_type": "stream",
     "text": [
      "(8808, 709) (20552, 709)\n"
     ]
    }
   ],
   "source": [
    "print(Test.shape, Train.shape)"
   ]
  },
  {
   "cell_type": "code",
   "execution_count": 202,
   "id": "3bd04202",
   "metadata": {},
   "outputs": [],
   "source": [
    "Test.to_csv('Chord2vec test filt.csv')"
   ]
  },
  {
   "cell_type": "code",
   "execution_count": 203,
   "id": "dc411a28",
   "metadata": {},
   "outputs": [],
   "source": [
    "Train.to_csv('Chord2vec train filt.csv')"
   ]
  },
  {
   "cell_type": "code",
   "execution_count": null,
   "id": "fa7c6817",
   "metadata": {},
   "outputs": [],
   "source": []
  }
 ],
 "metadata": {
  "kernelspec": {
   "display_name": "Python 3 (ipykernel)",
   "language": "python",
   "name": "python3"
  },
  "language_info": {
   "codemirror_mode": {
    "name": "ipython",
    "version": 3
   },
   "file_extension": ".py",
   "mimetype": "text/x-python",
   "name": "python",
   "nbconvert_exporter": "python",
   "pygments_lexer": "ipython3",
   "version": "3.9.16"
  }
 },
 "nbformat": 4,
 "nbformat_minor": 5
}
