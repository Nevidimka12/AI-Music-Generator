{
 "cells": [
  {
   "cell_type": "markdown",
   "metadata": {},
   "source": [
    "# Создание и обучение модели LSTM на векторном представлении аккордов"
   ]
  },
  {
   "cell_type": "markdown",
   "metadata": {},
   "source": [
    "## Подключение библиотек"
   ]
  },
  {
   "cell_type": "code",
   "execution_count": null,
   "metadata": {
    "id": "B79zndW6QtxB"
   },
   "outputs": [],
   "source": [
    "import collections\n",
    "import datetime\n",
    "import glob\n",
    "import numpy as np\n",
    "import pathlib\n",
    "import pandas as pd\n",
    "import pretty_midi\n",
    "import seaborn as sns\n",
    "import tensorflow as tf\n",
    "import json\n",
    "from IPython import display\n",
    "from matplotlib import pyplot as plt\n",
    "from typing import Dict, List, Optional, Sequence, Tuple\n",
    "import os"
   ]
  },
  {
   "cell_type": "markdown",
   "metadata": {},
   "source": [
    "## Задаем стандарный random seed и проверяем GPU"
   ]
  },
  {
   "cell_type": "code",
   "execution_count": null,
   "metadata": {
    "colab": {
     "base_uri": "https://localhost:8080/"
    },
    "id": "rQu4uwsaQ285",
    "outputId": "ddeb2399-8457-4301-ba99-d808be9dc524"
   },
   "outputs": [],
   "source": [
    "seed = 42\n",
    "tf.random.set_seed(seed)\n",
    "np.random.seed(seed)\n",
    "os.environ[\"CUDA_VISIBLE_DEVICES\"] = \"0\"\n",
    "# Sampling rate for audio playback\n",
    "_SAMPLING_RATE = 16000\n",
    "\n",
    "\n",
    "from tensorflow.python.client import device_lib\n",
    "print(device_lib.list_local_devices())\n"
   ]
  },
  {
   "cell_type": "markdown",
   "metadata": {},
   "source": [
    "## Загружаем csv данные"
   ]
  },
  {
   "cell_type": "code",
   "execution_count": null,
   "metadata": {
    "id": "LBcMwuMpQ426"
   },
   "outputs": [],
   "source": [
    "train = pd.read_csv('Chord2vec train filt.csv').drop('Unnamed: 0', axis = 1)\n",
    "test = pd.read_csv('Chord2vec test filt.csv').drop('Unnamed: 0', axis = 1)\n",
    "k = open('Decode.json')\n",
    "Decode = json.load(k)\n",
    "Code = {v:k for k, v in Decode.items()}"
   ]
  },
  {
   "cell_type": "markdown",
   "metadata": {},
   "source": [
    "## Конвертируем csv в numpy"
   ]
  },
  {
   "cell_type": "markdown",
   "metadata": {},
   "source": [
    "### Создаем np.array размерностью (None, 101, 30), где 101 - размер вектора + длительность данного аккорда"
   ]
  },
  {
   "cell_type": "code",
   "execution_count": null,
   "metadata": {},
   "outputs": [],
   "source": [
    "def split_array(array, length):\n",
    "    return list([list(array[i:i+length]) for i in range(0, len(array), length)])"
   ]
  },
  {
   "cell_type": "code",
   "execution_count": null,
   "metadata": {},
   "outputs": [],
   "source": [
    "trainData = []\n",
    "trainY = []\n",
    "for i in train.to_numpy():\n",
    "    slices = split_array(i[:-2], 101)\n",
    "    for slice_ in slices:\n",
    "        trainData.append([slice_])\n",
    "    trainY.append([i[-2], i[-1]])"
   ]
  },
  {
   "cell_type": "code",
   "execution_count": null,
   "metadata": {},
   "outputs": [],
   "source": [
    "testData = []\n",
    "testY = []\n",
    "for i in test.to_numpy():\n",
    "    slices = split_array(i[:-2], 101)\n",
    "    for slice_ in slices:\n",
    "        testData.append([slice_])\n",
    "    testY.append([i[-2], i[-1]])"
   ]
  },
  {
   "cell_type": "markdown",
   "metadata": {},
   "source": [
    "### Cохраняем полученные target`ы и данные в np.array"
   ]
  },
  {
   "cell_type": "code",
   "execution_count": null,
   "metadata": {},
   "outputs": [],
   "source": [
    "trainData = np.array(trainData)\n",
    "trainY = np.array(trainY)\n",
    "testData = np.array(testData)\n",
    "testY = np.array(testY)"
   ]
  },
  {
   "cell_type": "markdown",
   "metadata": {},
   "source": [
    "### Меняем размерность np.array"
   ]
  },
  {
   "cell_type": "code",
   "execution_count": null,
   "metadata": {},
   "outputs": [],
   "source": [
    "trainData = np.array([item[0] for item in trainData])\n",
    "testData = np.array([item[0] for item in testData])"
   ]
  },
  {
   "cell_type": "markdown",
   "metadata": {},
   "source": [
    "### кодируем target`ы загруженной ранее кодировкой"
   ]
  },
  {
   "cell_type": "code",
   "execution_count": null,
   "metadata": {},
   "outputs": [],
   "source": [
    "for i in range(len(trainY),29):\n",
    "    trainY[i][0] = float(Code[trainY[i][0]])\n",
    "for i in range(len(testY)):\n",
    "    testY[i][0] = float(Code[testY[i][0]])"
   ]
  },
  {
   "cell_type": "markdown",
   "metadata": {},
   "source": [
    "### представляем в виде one hot encoding"
   ]
  },
  {
   "cell_type": "code",
   "execution_count": null,
   "metadata": {
    "id": "imcvUt7Ji5BH"
   },
   "outputs": [],
   "source": [
    "key_order =  [f\"chord_{i}\" for i in range(100)] + ['duration']\n",
    "np.array(key_order).shape"
   ]
  },
  {
   "cell_type": "markdown",
   "metadata": {},
   "source": [
    "### Создаем tf.Dataset"
   ]
  },
  {
   "cell_type": "code",
   "execution_count": null,
   "metadata": {
    "colab": {
     "base_uri": "https://localhost:8080/"
    },
    "id": "8Ppcj3wTZxZQ",
    "outputId": "24f10ba7-4935-449f-f5e3-91dd7ce55ee1"
   },
   "outputs": [],
   "source": [
    "notes_ds = tf.data.Dataset.from_tensor_slices(trainData)\n",
    "notes_ds.element_spec"
   ]
  },
  {
   "cell_type": "code",
   "execution_count": null,
   "metadata": {
    "id": "vuJSWmuJdl6r"
   },
   "outputs": [],
   "source": [
    "def create_sequences(\n",
    "    dataset: tf.data.Dataset, \n",
    "    seq_length: int,\n",
    "    vocab_size = 100,\n",
    ") -> tf.data.Dataset:\n",
    "    seq_length = seq_length\n",
    "\n",
    "    windows = dataset.window(seq_length, shift=1, stride=1,\n",
    "                              drop_remainder=True)\n",
    "    \n",
    "    flatten = lambda x: x.batch(seq_length, drop_remainder=True)\n",
    "    sequences = windows.flat_map(flatten)\n",
    "\n",
    "    def scale_pitch(x):\n",
    "        x = x/([1] * vocab_size + [10.0])\n",
    "        return x\n",
    "\n",
    "    def split_labels(sequences):\n",
    "        inputs = sequences[:-1]\n",
    "        labels_dense = sequences[-1]\n",
    "        labels = {key:labels_dense[i] for i,key in enumerate(key_order)}\n",
    "  \n",
    "        return scale_pitch(inputs), labels\n",
    "  \n",
    "    return sequences.map(split_labels, num_parallel_calls=tf.data.AUTOTUNE)"
   ]
  },
  {
   "cell_type": "code",
   "execution_count": null,
   "metadata": {
    "colab": {
     "base_uri": "https://localhost:8080/"
    },
    "id": "ORaDEFfHdl0O",
    "outputId": "b95de74d-0922-4348-a66e-a6e456f50a6e"
   },
   "outputs": [],
   "source": [
    "seq_length = 29\n",
    "seq_ds = create_sequences(notes_ds, seq_length)\n",
    "seq_ds.element_spec"
   ]
  },
  {
   "cell_type": "markdown",
   "metadata": {},
   "source": [
    "### Проверка данных после преобразования"
   ]
  },
  {
   "cell_type": "code",
   "execution_count": null,
   "metadata": {
    "colab": {
     "base_uri": "https://localhost:8080/"
    },
    "id": "3a1g5crvdlxP",
    "outputId": "665e0456-607a-47b5-9a5a-fc5f6f712f03",
    "scrolled": true
   },
   "outputs": [],
   "source": [
    "for seq, target in seq_ds.take(2):\n",
    "    print('sequence shape:', seq.shape)\n",
    "    print('sequence elements (first 10):', seq)\n",
    "    print()\n",
    "    print('target:', target)"
   ]
  },
  {
   "cell_type": "markdown",
   "metadata": {},
   "source": [
    "### Кешируем данные для более быстрого доступа, также перемешиваем и разделяем на batch"
   ]
  },
  {
   "cell_type": "code",
   "execution_count": null,
   "metadata": {
    "id": "lpjwkun0dluw"
   },
   "outputs": [],
   "source": [
    "batch_size = 128\n",
    "buffer_size = len(train) - batch_size * 49\n",
    "train_ds = (seq_ds\n",
    "            .shuffle(buffer_size)\n",
    "            .batch(batch_size, drop_remainder=True)\n",
    "            .cache()\n",
    "            .prefetch(tf.data.experimental.AUTOTUNE))"
   ]
  },
  {
   "cell_type": "markdown",
   "metadata": {},
   "source": [
    "### Написали свою функцию потерь, чтобы контролировать отрицательные значения"
   ]
  },
  {
   "cell_type": "code",
   "execution_count": null,
   "metadata": {
    "id": "vcVdAyiAdlrK"
   },
   "outputs": [],
   "source": [
    "def mse_with_positive_pressure(y_true: tf.Tensor, y_pred: tf.Tensor):\n",
    "    mse = (y_true - y_pred) ** 2\n",
    "    positive_pressure = 10 * tf.maximum(-y_pred, 0.0)\n",
    "    return tf.reduce_mean(mse + positive_pressure)"
   ]
  },
  {
   "cell_type": "markdown",
   "metadata": {},
   "source": [
    "## Инициализация модели и обучение"
   ]
  },
  {
   "cell_type": "markdown",
   "metadata": {},
   "source": [
    "### Создаем модель загружаем функции ошибки, веса по параметрам и выводим данные о ней"
   ]
  },
  {
   "cell_type": "code",
   "execution_count": null,
   "metadata": {
    "colab": {
     "base_uri": "https://localhost:8080/"
    },
    "id": "-s7aCKlNdlmU",
    "outputId": "9508f6ed-d068-4bc9-b3e3-b7e2c8027608"
   },
   "outputs": [],
   "source": [
    "input_shape = (seq_length, 2)\n",
    "learning_rate = 0.05\n",
    "\n",
    "inputs = tf.keras.Input(input_shape)\n",
    "x = tf.keras.layers.LSTM(256)(inputs)\n",
    "\n",
    "# x = tf.keras.layers.Dense(512, activation='relu')(x)\n",
    "\n",
    "outputs = {\n",
    "  'chord': tf.keras.layers.Dense(193, name='chord')(x),\n",
    "  'duration': tf.keras.layers.Dense(5, name='duration')(x),\n",
    "}\n",
    "\n",
    "model = tf.keras.Model(inputs, outputs)\n",
    "\n",
    "loss = {\n",
    "      'chord': tf.keras.losses.SparseCategoricalCrossentropy(\n",
    "          from_logits=True),\n",
    "      'duration': mse_with_positive_pressure,\n",
    "}\n",
    "\n",
    "optimizer = tf.keras.optimizers.Adam(learning_rate=learning_rate)\n",
    "\n",
    "model.compile(\n",
    "    loss=loss,\n",
    "    loss_weights={\n",
    "        'pitch': 1,\n",
    "        'duration': 1.5,\n",
    "    },\n",
    "    optimizer=optimizer,\n",
    ")\n",
    "\n",
    "model.summary()"
   ]
  },
  {
   "cell_type": "markdown",
   "metadata": {},
   "source": [
    "### Обучение модели"
   ]
  },
  {
   "cell_type": "code",
   "execution_count": null,
   "metadata": {
    "id": "CSX0zem8kRrF"
   },
   "outputs": [],
   "source": [
    "callbacks = [\n",
    "    tf.keras.callbacks.ModelCheckpoint(\n",
    "        filepath='./training_checkpoints/ckpt_{epoch}',\n",
    "        save_weights_only=True),\n",
    "    tf.keras.callbacks.EarlyStopping(\n",
    "        monitor='loss',\n",
    "        patience=25,\n",
    "        verbose=1,\n",
    "        restore_best_weights=True),\n",
    "]"
   ]
  },
  {
   "cell_type": "code",
   "execution_count": null,
   "metadata": {
    "colab": {
     "base_uri": "https://localhost:8080/"
    },
    "id": "dEDkXUockRop",
    "outputId": "dac00ff8-38b1-4f7c-827b-8f372e5ed22f"
   },
   "outputs": [],
   "source": [
    "epochs = 5000\n",
    "\n",
    "history = model.fit(\n",
    "    train_ds,\n",
    "    epochs=epochs,\n",
    "    callbacks=callbacks,\n",
    ")"
   ]
  },
  {
   "cell_type": "markdown",
   "metadata": {},
   "source": [
    "### Построение графика ошибки по эпохам"
   ]
  },
  {
   "cell_type": "code",
   "execution_count": null,
   "metadata": {
    "id": "BhXsSmNckRlg"
   },
   "outputs": [],
   "source": [
    "plt.plot(history.epoch, history.history['loss'], label='total loss')\n",
    "plt.show()"
   ]
  },
  {
   "cell_type": "markdown",
   "metadata": {},
   "source": [
    "### Cозранение модели для будующего использования"
   ]
  },
  {
   "cell_type": "code",
   "execution_count": null,
   "metadata": {
    "id": "oeOJ9Obo7psy"
   },
   "outputs": [],
   "source": [
    "model.save(\"path/to/my_model.h5\")"
   ]
  },
  {
   "cell_type": "code",
   "execution_count": null,
   "metadata": {},
   "outputs": [],
   "source": []
  },
  {
   "cell_type": "markdown",
   "metadata": {},
   "source": [
    "##  Попытка обучить модель с разными ветками на параметры"
   ]
  },
  {
   "cell_type": "code",
   "execution_count": null,
   "metadata": {},
   "outputs": [],
   "source": [
    "input_shape = (7, 101)\n",
    "learning_rate = 0.001\n",
    "\n",
    "inputs = tf.keras.Input(input_shape)\n",
    "# x = tf.keras.layers.LSTM(100)(inputs)\n",
    "\n",
    "# x = tf.keras.layers.Dense(128, activation='relu')(x)\n",
    "# x = tf.keras.layers.Dense(256, activation='relu')(x)\n",
    "# x = tf.keras.layers.Dense(512, activation='relu')(x)\n",
    "# x = tf.keras.layers.Dense(256, activation='relu')(x)\n",
    "\n",
    "# Создание первой ветви модели для целевого значения \"chord\"\n",
    "chord_branch = tf.keras.layers.LSTM(64)(inputs)\n",
    "chord_branch = tf.keras.layers.Dense(64, activation='relu')(chord_branch)\n",
    "chord_output = tf.keras.layers.Dense(193, activation='softmax', name='chord')(chord_branch)\n",
    "\n",
    "# Создание второй ветви модели для целевого значения \"duration\"\n",
    "duration_branch = tf.keras.layers.LSTM(64)(inputs)\n",
    "duration_branch = tf.keras.layers.Dense(64, activation='relu')(duration_branch)\n",
    "duration_output = tf.keras.layers.Dense(1, name='duration')(duration_branch)\n",
    "\n",
    "\n",
    "outputs = {\n",
    "  'chord': tf.keras.layers.Dense(1,activation='softmax', name='chord')(x),\n",
    "  'duration': tf.keras.layers.Dense(1, name='duration')(x),\n",
    "}\n",
    "\n",
    "modelChord2 = tf.keras.Model(inputs=inputs, outputs=[chord_output, duration_output])\n",
    "\n",
    "loss = {\n",
    "      'chord': tf.keras.losses.CategoricalCrossentropy(),\n",
    "      'duration': mse_with_positive_pressure,\n",
    "}\n",
    "\n",
    "optimizer = tf.keras.optimizers.Adam(learning_rate=learning_rate)\n",
    "\n",
    "modelChord2.compile(loss=loss,metrics={'chord': 'accuracy', 'duration':'mae'},loss_weights={\n",
    "        'chord': 1,\n",
    "        'duration':0.5,\n",
    "    },\n",
    "    optimizer=optimizer)\n",
    "\n",
    "modelChord2.summary()"
   ]
  },
  {
   "cell_type": "code",
   "execution_count": null,
   "metadata": {},
   "outputs": [],
   "source": [
    "callbacks = [\n",
    "    tf.keras.callbacks.ModelCheckpoint(\n",
    "        filepath='./training_checkpoints/ckpt_{epoch}',\n",
    "        save_weights_only=True),\n",
    "    tf.keras.callbacks.EarlyStopping(\n",
    "        monitor='loss',\n",
    "        patience=50,\n",
    "        verbose=1,\n",
    "        restore_best_weights=True),\n",
    "]"
   ]
  },
  {
   "cell_type": "code",
   "execution_count": null,
   "metadata": {},
   "outputs": [],
   "source": [
    "epochs = 5000\n",
    "\n",
    "history = modelChord2.fit(\n",
    "    x = chord_ds,\n",
    "    y = {\n",
    "    'chord': chord_target,\n",
    "    'duration': dur_target\n",
    "    },\n",
    "    epochs=epochs,\n",
    "    callbacks=callbacks,\n",
    "    validation_split=0.35\n",
    ")"
   ]
  },
  {
   "cell_type": "code",
   "execution_count": null,
   "metadata": {},
   "outputs": [],
   "source": [
    "plt.plot(history.epoch, history.history['loss'], label='total loss')\n",
    "plt.show()"
   ]
  },
  {
   "cell_type": "markdown",
   "metadata": {},
   "source": [
    "## График по всем Loss`ам"
   ]
  },
  {
   "cell_type": "code",
   "execution_count": null,
   "metadata": {},
   "outputs": [],
   "source": [
    "loss = history.history['loss']  # Значения ошибки для первого целевого параметра\n",
    "loss_target2 = history.history['chord_loss']  # Значения ошибки для второго целевого параметра\n",
    "loss_target3 = history.history['duration_loss']\n",
    "# Получите количество эпох обучения\n",
    "epochs = range(1, len(loss) + 1)\n",
    "\n",
    "# Постройте график уменьшения ошибки для каждого целевого параметра\n",
    "plt.plot(epochs, loss, 'b', label='Summory Loss')\n",
    "plt.plot(epochs, loss_target2, 'r', label='Chord Loss')\n",
    "plt.plot(epochs, loss_target3, 'g', label='Duration Loss')\n",
    "plt.title('Уменьшение ошибки по каждому целевому параметру')\n",
    "plt.xlabel('Эпохи')\n",
    "plt.ylabel('Значение ошибки')\n",
    "plt.legend()\n",
    "plt.show()"
   ]
  },
  {
   "cell_type": "markdown",
   "metadata": {},
   "source": [
    "## Сохранение модели"
   ]
  },
  {
   "cell_type": "code",
   "execution_count": null,
   "metadata": {},
   "outputs": [],
   "source": [
    "modelChord2.save('chord2vecLSTM 2 branch.h5')"
   ]
  }
 ],
 "metadata": {
  "accelerator": "GPU",
  "colab": {
   "gpuType": "T4",
   "provenance": []
  },
  "kernelspec": {
   "display_name": "Python 3 (ipykernel)",
   "language": "python",
   "name": "python3"
  },
  "language_info": {
   "codemirror_mode": {
    "name": "ipython",
    "version": 3
   },
   "file_extension": ".py",
   "mimetype": "text/x-python",
   "name": "python",
   "nbconvert_exporter": "python",
   "pygments_lexer": "ipython3",
   "version": "3.9.16"
  }
 },
 "nbformat": 4,
 "nbformat_minor": 1
}
