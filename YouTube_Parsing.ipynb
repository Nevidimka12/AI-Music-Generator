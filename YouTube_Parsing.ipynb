{
  "cells": [
    {
      "cell_type": "markdown",
      "metadata": {
        "id": "0XaNyOXor39i"
      },
      "source": [
        "#Устанавливаем и подключаем библиотеки:"
      ]
    },
    {
      "cell_type": "markdown",
      "metadata": {
        "id": "Ds9O-IFb35CQ"
      },
      "source": [
        "###Обновляем pip"
      ]
    },
    {
      "cell_type": "code",
      "execution_count": null,
      "metadata": {
        "colab": {
          "base_uri": "https://localhost:8080/"
        },
        "id": "cFCFb4tL3-99",
        "outputId": "cc3e2cbe-e37e-431a-d388-4e815f2cc506"
      },
      "outputs": [
        {
          "output_type": "stream",
          "name": "stdout",
          "text": [
            "Looking in indexes: https://pypi.org/simple, https://us-python.pkg.dev/colab-wheels/public/simple/\n",
            "Requirement already satisfied: pip in /usr/local/lib/python3.9/dist-packages (22.0.4)\n",
            "Collecting pip\n",
            "  Downloading pip-23.0.1-py3-none-any.whl (2.1 MB)\n",
            "\u001b[2K     \u001b[90m━━━━━━━━━━━━━━━━━━━━━━━━━━━━━━━━━━━━━━━━\u001b[0m \u001b[32m2.1/2.1 MB\u001b[0m \u001b[31m13.1 MB/s\u001b[0m eta \u001b[36m0:00:00\u001b[0m\n",
            "\u001b[?25hInstalling collected packages: pip\n",
            "  Attempting uninstall: pip\n",
            "    Found existing installation: pip 22.0.4\n",
            "    Uninstalling pip-22.0.4:\n",
            "      Successfully uninstalled pip-22.0.4\n",
            "Successfully installed pip-23.0.1\n"
          ]
        }
      ],
      "source": [
        "!pip install --upgrade pip"
      ]
    },
    {
      "cell_type": "markdown",
      "metadata": {
        "id": "pOBUzB6esSc9"
      },
      "source": [
        "###Библиотека для работы с google drive в goole colab."
      ]
    },
    {
      "cell_type": "code",
      "execution_count": null,
      "metadata": {
        "colab": {
          "base_uri": "https://localhost:8080/"
        },
        "id": "oaRz_gf4rwSB",
        "outputId": "141e6a5c-094c-4e97-ed7a-1237f23af30f"
      },
      "outputs": [
        {
          "name": "stdout",
          "output_type": "stream",
          "text": [
            "Drive already mounted at /content/gdrive; to attempt to forcibly remount, call drive.mount(\"/content/gdrive\", force_remount=True).\n"
          ]
        }
      ],
      "source": [
        "from google.colab import drive\n",
        "drive.mount('/content/gdrive')"
      ]
    },
    {
      "cell_type": "markdown",
      "metadata": {
        "id": "Nbtun6rWt1BO"
      },
      "source": [
        "###Библиотека для скачивания видео/музыки с YouTube\n"
      ]
    },
    {
      "cell_type": "code",
      "execution_count": null,
      "metadata": {
        "colab": {
          "base_uri": "https://localhost:8080/"
        },
        "id": "G-kT6W1FsJZl",
        "outputId": "078ad8cf-d5e5-4538-c661-475c43a870df"
      },
      "outputs": [
        {
          "output_type": "stream",
          "name": "stdout",
          "text": [
            "Looking in indexes: https://pypi.org/simple, https://us-python.pkg.dev/colab-wheels/public/simple/\n",
            "Collecting pytube\n",
            "  Downloading pytube-12.1.2-py3-none-any.whl (57 kB)\n",
            "\u001b[2K     \u001b[90m━━━━━━━━━━━━━━━━━━━━━━━━━━━━━━━━━━━━━━━━\u001b[0m \u001b[32m57.0/57.0 kB\u001b[0m \u001b[31m2.1 MB/s\u001b[0m eta \u001b[36m0:00:00\u001b[0m\n",
            "\u001b[?25hInstalling collected packages: pytube\n",
            "Successfully installed pytube-12.1.2\n",
            "\u001b[33mWARNING: Running pip as the 'root' user can result in broken permissions and conflicting behaviour with the system package manager. It is recommended to use a virtual environment instead: https://pip.pypa.io/warnings/venv\u001b[0m\u001b[33m\n",
            "\u001b[0mLooking in indexes: https://pypi.org/simple, https://us-python.pkg.dev/colab-wheels/public/simple/\n",
            "Collecting yt-dlp\n",
            "  Downloading yt_dlp-2023.3.4-py2.py3-none-any.whl (2.9 MB)\n",
            "\u001b[2K     \u001b[90m━━━━━━━━━━━━━━━━━━━━━━━━━━━━━━━━━━━━━━━━\u001b[0m \u001b[32m2.9/2.9 MB\u001b[0m \u001b[31m25.6 MB/s\u001b[0m eta \u001b[36m0:00:00\u001b[0m\n",
            "\u001b[?25hCollecting brotli\n",
            "  Downloading Brotli-1.0.9-cp39-cp39-manylinux1_x86_64.whl (357 kB)\n",
            "\u001b[2K     \u001b[90m━━━━━━━━━━━━━━━━━━━━━━━━━━━━━━━━━━━━━━\u001b[0m \u001b[32m357.2/357.2 kB\u001b[0m \u001b[31m27.3 MB/s\u001b[0m eta \u001b[36m0:00:00\u001b[0m\n",
            "\u001b[?25hCollecting websockets\n",
            "  Downloading websockets-10.4-cp39-cp39-manylinux_2_5_x86_64.manylinux1_x86_64.manylinux_2_17_x86_64.manylinux2014_x86_64.whl (106 kB)\n",
            "\u001b[2K     \u001b[90m━━━━━━━━━━━━━━━━━━━━━━━━━━━━━━━━━━━━━━\u001b[0m \u001b[32m106.5/106.5 kB\u001b[0m \u001b[31m13.1 MB/s\u001b[0m eta \u001b[36m0:00:00\u001b[0m\n",
            "\u001b[?25hCollecting pycryptodomex\n",
            "  Downloading pycryptodomex-3.17-cp35-abi3-manylinux_2_17_x86_64.manylinux2014_x86_64.whl (2.1 MB)\n",
            "\u001b[2K     \u001b[90m━━━━━━━━━━━━━━━━━━━━━━━━━━━━━━━━━━━━━━━━\u001b[0m \u001b[32m2.1/2.1 MB\u001b[0m \u001b[31m50.9 MB/s\u001b[0m eta \u001b[36m0:00:00\u001b[0m\n",
            "\u001b[?25hRequirement already satisfied: certifi in /usr/local/lib/python3.9/dist-packages (from yt-dlp) (2022.12.7)\n",
            "Collecting mutagen\n",
            "  Downloading mutagen-1.46.0-py3-none-any.whl (193 kB)\n",
            "\u001b[2K     \u001b[90m━━━━━━━━━━━━━━━━━━━━━━━━━━━━━━━━━━━━━━\u001b[0m \u001b[32m193.6/193.6 kB\u001b[0m \u001b[31m19.3 MB/s\u001b[0m eta \u001b[36m0:00:00\u001b[0m\n",
            "\u001b[?25hInstalling collected packages: brotli, websockets, pycryptodomex, mutagen, yt-dlp\n",
            "Successfully installed brotli-1.0.9 mutagen-1.46.0 pycryptodomex-3.17 websockets-10.4 yt-dlp-2023.3.4\n",
            "\u001b[33mWARNING: Running pip as the 'root' user can result in broken permissions and conflicting behaviour with the system package manager. It is recommended to use a virtual environment instead: https://pip.pypa.io/warnings/venv\u001b[0m\u001b[33m\n",
            "\u001b[0m"
          ]
        }
      ],
      "source": [
        "!pip install pytube\n",
        "!pip install yt-dlp\n",
        "import yt_dlp\n",
        "from pytube import YouTube\n",
        "from pytube import Playlist"
      ]
    },
    {
      "cell_type": "markdown",
      "metadata": {
        "id": "EVcU5CtKysXQ"
      },
      "source": [
        "###Библиотеки для работы с файловой системой"
      ]
    },
    {
      "cell_type": "code",
      "execution_count": null,
      "metadata": {
        "colab": {
          "base_uri": "https://localhost:8080/"
        },
        "id": "1rRLPMwpyy_w",
        "outputId": "10b0962e-ab41-4588-acbb-4d7a12a11ab0"
      },
      "outputs": [
        {
          "output_type": "stream",
          "name": "stdout",
          "text": [
            "Looking in indexes: https://pypi.org/simple, https://us-python.pkg.dev/colab-wheels/public/simple/\n",
            "Collecting PythonVideoConverter\n",
            "  Downloading PythonVideoConverter-1.0.3.tar.gz (4.4 MB)\n",
            "\u001b[2K     \u001b[90m━━━━━━━━━━━━━━━━━━━━━━━━━━━━━━━━━━━━━━━━\u001b[0m \u001b[32m4.4/4.4 MB\u001b[0m \u001b[31m31.1 MB/s\u001b[0m eta \u001b[36m0:00:00\u001b[0m\n",
            "\u001b[?25h  Preparing metadata (setup.py) ... \u001b[?25l\u001b[?25hdone\n",
            "Building wheels for collected packages: PythonVideoConverter\n",
            "  Building wheel for PythonVideoConverter (setup.py) ... \u001b[?25l\u001b[?25hdone\n",
            "  Created wheel for PythonVideoConverter: filename=PythonVideoConverter-1.0.3-py3-none-any.whl size=19849 sha256=832b89df3b05e2dd57947458341e1d94ed9ebb7f3cb442eb5277c8b08c27352b\n",
            "  Stored in directory: /root/.cache/pip/wheels/3c/95/ae/0eb90aaa21cee07b6e92d3a57f4b303a34fb3c27c6bc750093\n",
            "Successfully built PythonVideoConverter\n",
            "Installing collected packages: PythonVideoConverter\n",
            "Successfully installed PythonVideoConverter-1.0.3\n",
            "\u001b[33mWARNING: Running pip as the 'root' user can result in broken permissions and conflicting behaviour with the system package manager. It is recommended to use a virtual environment instead: https://pip.pypa.io/warnings/venv\u001b[0m\u001b[33m\n",
            "\u001b[0m"
          ]
        }
      ],
      "source": [
        "!pip install PythonVideoConverter\n",
        "import os\n",
        "import re\n",
        "from converter import Converter"
      ]
    },
    {
      "cell_type": "markdown",
      "metadata": {
        "id": "2Qourwvp0dj-"
      },
      "source": [
        "###Библиотека для красивого отображения циклов"
      ]
    },
    {
      "cell_type": "code",
      "execution_count": null,
      "metadata": {
        "colab": {
          "base_uri": "https://localhost:8080/"
        },
        "id": "8sHLm5Gc0cnk",
        "outputId": "7553bfa9-7649-43cc-c225-4cead815224e"
      },
      "outputs": [
        {
          "name": "stdout",
          "output_type": "stream",
          "text": [
            "Looking in indexes: https://pypi.org/simple, https://us-python.pkg.dev/colab-wheels/public/simple/\n",
            "Requirement already satisfied: tqdm in /usr/local/lib/python3.8/dist-packages (4.64.1)\n",
            "\u001b[33mWARNING: Running pip as the 'root' user can result in broken permissions and conflicting behaviour with the system package manager. It is recommended to use a virtual environment instead: https://pip.pypa.io/warnings/venv\u001b[0m\u001b[33m\n",
            "\u001b[0m"
          ]
        }
      ],
      "source": [
        "!pip install tqdm\n",
        "from tqdm import tqdm"
      ]
    },
    {
      "cell_type": "markdown",
      "metadata": {
        "id": "BA4MwIa7uVi1"
      },
      "source": [
        "#Парсим плейлист по ссылке"
      ]
    },
    {
      "cell_type": "code",
      "execution_count": null,
      "metadata": {
        "id": "9t1H85vBaC-2"
      },
      "outputs": [],
      "source": [
        "def ParsingYoutubeVidasMp3(Url, pathMusic):\n",
        "  playlist = Playlist(Url)\n",
        "  for i in (playlist):\n",
        "    video_info = yt_dlp.YoutubeDL().extract_info(url = Url, download = False)\n",
        "    print(video_info)\n",
        "    filename = f\"{video_info['title']}.mp3\"\n",
        "    options = {\n",
        "        'format' : 'bestaudio/best',\n",
        "        'keepvideo':False,\n",
        "        'outtmpl':f'{filename}'\n",
        "    }\n",
        "    with yt_dlp.YoutubeDL(options) as ydl:\n",
        "      ydl.download([video_info['webpage_url']])"
      ]
    },
    {
      "cell_type": "code",
      "execution_count": null,
      "metadata": {
        "id": "NF2D6M9iuC22"
      },
      "outputs": [],
      "source": [
        "playlistUrl = \"https://www.youtube.com/watch?v=tSM40GlyFvk&list=PLR3hLj_mQduKXmaeMgrHYgJP55glEC-4k\"\n",
        "pathMusic = '/content/gdrive/MyDrive/music'\n",
        "pathVideo = '/content/gdrive/MyDrive/video'\n",
        "playlist = Playlist(playlistUrl)\n",
        "ParsingYoutubeVidasMp3(playlistUrl, pathMusic)"
      ]
    },
    {
      "cell_type": "markdown",
      "metadata": {
        "id": "-w0roCjJdPac"
      },
      "source": [
        "#Другой метод скачивания плейлиста"
      ]
    },
    {
      "cell_type": "code",
      "execution_count": null,
      "metadata": {
        "colab": {
          "base_uri": "https://localhost:8080/",
          "height": 35
        },
        "id": "A84U-uAGzsrD",
        "outputId": "1b3fb04d-8a4c-444e-dd87-2c1268bd322d"
      },
      "outputs": [
        {
          "output_type": "execute_result",
          "data": {
            "text/plain": [
              "'/content/Good_Morning_to_All.wav/Good Morning to All.mp4'"
            ],
            "application/vnd.google.colaboratory.intrinsic+json": {
              "type": "string"
            }
          },
          "metadata": {},
          "execution_count": 16
        }
      ],
      "source": [
        "pathMusic = '/content/gdrive/MyDrive/music'\n",
        "pathVideo = '/content/gdrive/MyDrive/video'\n",
        "for url in tqdm(playlist):\n",
        "YouTube('https://www.youtube.com/watch?v=_dNY_1wLgpk').streams.filter(only_audio=True).first().download('Good_Morning_to_All.wav')\n",
        "   "
      ]
    },
    {
      "cell_type": "markdown",
      "metadata": {
        "id": "oC3xjYul5eMm"
      },
      "source": [
        "#Форматируем формат mp4 в mp3"
      ]
    },
    {
      "cell_type": "code",
      "execution_count": null,
      "metadata": {
        "id": "0CkFhquC_r9X"
      },
      "outputs": [],
      "source": [
        "from multiprocessing import Pool"
      ]
    },
    {
      "cell_type": "code",
      "execution_count": null,
      "metadata": {
        "id": "c04YgDuc8KJo"
      },
      "outputs": [],
      "source": [
        "conv = Converter()\n",
        "def conver(i):\n",
        "  converter = conv.convert(f'/content/Good_Morning_to_All.wav/Good Morning to All.mp4', f'Good_Morning_to_All.wav', {\n",
        "    'format': 'wav',\n",
        "    'audio': {\n",
        "        'codec': 'wav',\n",
        "        'samplerate': 320,\n",
        "        },\n",
        "    })\n",
        "  for timecode in converter:\n",
        "    print(timecode)  "
      ]
    },
    {
      "cell_type": "markdown",
      "metadata": {
        "id": "cgR-8WgbXPx3"
      },
      "source": [
        "#Парсим с сайта https://www.chosic.com/\n"
      ]
    },
    {
      "cell_type": "code",
      "execution_count": null,
      "metadata": {
        "colab": {
          "base_uri": "https://localhost:8080/"
        },
        "id": "tUf7bvS4BCjg",
        "outputId": "a62af7de-66e4-4eff-c976-4c095f5bc6d1"
      },
      "outputs": [
        {
          "name": "stdout",
          "output_type": "stream",
          "text": [
            "Looking in indexes: https://pypi.org/simple, https://us-python.pkg.dev/colab-wheels/public/simple/\n",
            "Requirement already satisfied: fake_useragent in /usr/local/lib/python3.8/dist-packages (1.1.1)\n",
            "Requirement already satisfied: importlib-resources>=5.0 in /usr/local/lib/python3.8/dist-packages (from fake_useragent) (5.12.0)\n",
            "Requirement already satisfied: zipp>=3.1.0 in /usr/local/lib/python3.8/dist-packages (from importlib-resources>=5.0->fake_useragent) (3.15.0)\n",
            "\u001b[33mWARNING: Running pip as the 'root' user can result in broken permissions and conflicting behaviour with the system package manager. It is recommended to use a virtual environment instead: https://pip.pypa.io/warnings/venv\u001b[0m\u001b[33m\n",
            "\u001b[0mLooking in indexes: https://pypi.org/simple, https://us-python.pkg.dev/colab-wheels/public/simple/\n",
            "Requirement already satisfied: requests-ip-rotator in /usr/local/lib/python3.8/dist-packages (1.0.14)\n",
            "Requirement already satisfied: boto3 in /usr/local/lib/python3.8/dist-packages (from requests-ip-rotator) (1.26.81)\n",
            "Requirement already satisfied: requests in /usr/local/lib/python3.8/dist-packages (from requests-ip-rotator) (2.25.1)\n",
            "Requirement already satisfied: botocore<1.30.0,>=1.29.81 in /usr/local/lib/python3.8/dist-packages (from boto3->requests-ip-rotator) (1.29.81)\n",
            "Requirement already satisfied: s3transfer<0.7.0,>=0.6.0 in /usr/local/lib/python3.8/dist-packages (from boto3->requests-ip-rotator) (0.6.0)\n",
            "Requirement already satisfied: jmespath<2.0.0,>=0.7.1 in /usr/local/lib/python3.8/dist-packages (from boto3->requests-ip-rotator) (1.0.1)\n",
            "Requirement already satisfied: urllib3<1.27,>=1.21.1 in /usr/local/lib/python3.8/dist-packages (from requests->requests-ip-rotator) (1.26.14)\n",
            "Requirement already satisfied: idna<3,>=2.5 in /usr/local/lib/python3.8/dist-packages (from requests->requests-ip-rotator) (2.10)\n",
            "Requirement already satisfied: chardet<5,>=3.0.2 in /usr/local/lib/python3.8/dist-packages (from requests->requests-ip-rotator) (4.0.0)\n",
            "Requirement already satisfied: certifi>=2017.4.17 in /usr/local/lib/python3.8/dist-packages (from requests->requests-ip-rotator) (2022.12.7)\n",
            "Requirement already satisfied: python-dateutil<3.0.0,>=2.1 in /usr/local/lib/python3.8/dist-packages (from botocore<1.30.0,>=1.29.81->boto3->requests-ip-rotator) (2.8.2)\n",
            "Requirement already satisfied: six>=1.5 in /usr/local/lib/python3.8/dist-packages (from python-dateutil<3.0.0,>=2.1->botocore<1.30.0,>=1.29.81->boto3->requests-ip-rotator) (1.15.0)\n",
            "\u001b[33mWARNING: Running pip as the 'root' user can result in broken permissions and conflicting behaviour with the system package manager. It is recommended to use a virtual environment instead: https://pip.pypa.io/warnings/venv\u001b[0m\u001b[33m\n",
            "\u001b[0m"
          ]
        }
      ],
      "source": [
        "!pip install fake_useragent\n",
        "!pip install requests-ip-rotator\n",
        "from fake_useragent import UserAgent\n",
        "from requests_ip_rotator import ApiGateway, EXTRA_REGIONS\n",
        "import requests\n",
        "from bs4 import BeautifulSoup\n",
        "import time\n",
        "import random"
      ]
    },
    {
      "cell_type": "code",
      "execution_count": null,
      "metadata": {
        "id": "ltayxHxlTdQW"
      },
      "outputs": [],
      "source": [
        "class Parsing():\n",
        "  def __init__(self, url, music_type):\n",
        "    self.headers = {\n",
        "      'accept': 'text/html,application/xhtml+xml,application/xml;q=0.9,image/avif,image/webp,image/apng,*/*;q=0.8,application/signed-exchange;v=b3;q=0.9',\n",
        "      'accept-encoding': 'gzip, deflate, br',\n",
        "      'accept-language': 'uk,en-US;q=0.9,en;q=0.8,ru;q=0.7',\n",
        "      'sec-ch-ua': '\"Google Chrome\";v=\"89\", \"Chromium\";v=\"89\", \";Not A Brand\";v=\"99\"',\n",
        "      'sec-ch-ua-mobile': '?0',\n",
        "      'sec-fetch-dest': 'document',\n",
        "      'sec-fetch-mode': 'navigate',\n",
        "      'sec-fetch-site': 'none',\n",
        "      'sec-fetch-user': '?1',\n",
        "      'upgrade-insecure-requests': '1',\n",
        "      'user-agent': 'Mozilla/5.0 (X11; Linux x86_64) AppleWebKit/537.36 (KHTML, like Gecko) Chrome/89.0.4389.90 Safari/537.36'\n",
        "    }\n",
        "    self.session = requests.Session()\n",
        "    self.session.headers = self.headers\n",
        "    self.url = url\n",
        "    self.tracksUrl = []\n",
        "    self.pathMusic = pathMusic + music_type\n",
        "\n",
        "\n",
        "  def newProxy(self):\n",
        "    f = open(\"Proxy.txt\", \"r\")\n",
        "    proxy = random.choice(f.read().split('\\n'))\n",
        "    f.close\n",
        "    return {\"http\": f\"http://{proxy}\"}\n",
        "\n",
        "  def updateSes(self):\n",
        "    time.sleep(10)\n",
        "    ua = UserAgent()\n",
        "    self.headers['user-agent'] = ua.random\n",
        "    self.session = requests.Session()\n",
        "    self.session.headers = self.headers\n",
        "    k = self.newProxy()\n",
        "    self.session.proxies.update(k)\n",
        "\n",
        "\n",
        "  def saveFileFromUrl(self, session, url):\n",
        "    filename = url.split('/')[-1]\n",
        "    track = session.get(url)\n",
        "    open(f\"{self.pathMusic}/{filename}\", \"wb\").write(track.content)\n",
        "\n",
        "  def parse(self):\n",
        "    url = self.url + '1/'\n",
        "    r = self.session.get(url)\n",
        "    soup = BeautifulSoup(r.text, 'lxml')\n",
        "    k = int(list(soup.findAll('a', class_ = \"page-numbers\"))[-2].text)\n",
        "    for i in range(1, k+1):\n",
        "      url = self.url + f'{i}/'\n",
        "      r = self.session.get(url)\n",
        "      if r.status_code != 200:\n",
        "        self.updateSes()\n",
        "        r = self.session.get(url)\n",
        "      soup = BeautifulSoup(r.text, 'lxml')\n",
        "      for x in soup.findAll('a', class_ = 'download-button track-download track-download'):\n",
        "        self.tracksUrl.append(x.get(\"href\"))\n",
        "\n",
        "    for i in tqdm(self.tracksUrl):\n",
        "      time.sleep(0.5 + random.randint(1, 3)/10)\n",
        "      r = self.session.get(i)\n",
        "      if r.status_code != 200:\n",
        "        self.updateSes()\n",
        "        continue\n",
        "      soup = BeautifulSoup(r.text, 'lxml')\n",
        "      self.saveFileFromUrl(self.session, soup.find('button', class_ = \"download\").get('data-url'))\n"
      ]
    },
    {
      "cell_type": "code",
      "execution_count": null,
      "metadata": {
        "id": "O6-pp0Y4W_7z"
      },
      "outputs": [],
      "source": [
        "piano = Parsing(\"https://www.chosic.com/free-music/piano/page/\", \"Piano\")\n",
        "piano.parse()"
      ]
    },
    {
      "cell_type": "code",
      "execution_count": null,
      "metadata": {
        "colab": {
          "base_uri": "https://localhost:8080/"
        },
        "id": "EcBQe5ivYBmX",
        "outputId": "cbc0bd65-3c91-423c-f3c9-541660c22a85"
      },
      "outputs": [
        {
          "name": "stderr",
          "output_type": "stream",
          "text": [
            "100%|██████████| 128/128 [04:22<00:00,  2.05s/it]\n"
          ]
        }
      ],
      "source": [
        "gitar = Parsing(\"https://www.chosic.com/free-music/guitar/page/\", \"Gitar\")\n",
        "gitar.parse()"
      ]
    },
    {
      "cell_type": "code",
      "execution_count": null,
      "metadata": {
        "colab": {
          "base_uri": "https://localhost:8080/"
        },
        "id": "k-NYHCx5f65b",
        "outputId": "8516a39f-8c95-4dab-c5fe-729eb52afc0a"
      },
      "outputs": [
        {
          "name": "stderr",
          "output_type": "stream",
          "text": [
            "100%|██████████| 35/35 [01:08<00:00,  1.95s/it]\n"
          ]
        }
      ],
      "source": [
        "Saxophone = Parsing(\"https://www.chosic.com/free-music/saxophone/page/\",\"Saxophone\")\n",
        "Saxophone.parse()"
      ]
    },
    {
      "cell_type": "code",
      "execution_count": null,
      "metadata": {
        "colab": {
          "base_uri": "https://localhost:8080/"
        },
        "id": "Kt07P_yQhZT7",
        "outputId": "8a277737-c456-4f38-93c3-35082802ae5a"
      },
      "outputs": [
        {
          "name": "stderr",
          "output_type": "stream",
          "text": [
            "100%|██████████| 43/43 [01:27<00:00,  2.03s/it]\n"
          ]
        }
      ],
      "source": [
        "DrumBeats = Parsing(\"https://www.chosic.com/free-music/drums/page/\", \"DrumBeats\")\n",
        "DrumBeats.parse()"
      ]
    },
    {
      "cell_type": "code",
      "execution_count": null,
      "metadata": {
        "colab": {
          "background_save": true,
          "base_uri": "https://localhost:8080/"
        },
        "id": "mwlCA9kCiUeo",
        "outputId": "9860e3fe-cbac-41af-ab2a-dfde4a3aaef4"
      },
      "outputs": [
        {
          "name": "stderr",
          "output_type": "stream",
          "text": [
            "100%|██████████| 1808/1808 [59:12<00:00,  1.96s/it]\n"
          ]
        }
      ],
      "source": [
        "mix = Parsing(\"https://www.chosic.com/free-music/instrumental/page/\", \"MixInstrumental\")\n",
        "mix.parse()"
      ]
    },
    {
      "cell_type": "code",
      "execution_count": null,
      "metadata": {
        "id": "ViVmHeEjlZB6"
      },
      "outputs": [],
      "source": []
    }
  ],
  "metadata": {
    "colab": {
      "provenance": []
    },
    "kernelspec": {
      "display_name": "Python 3",
      "name": "python3"
    },
    "language_info": {
      "name": "python"
    },
    "accelerator": "GPU",
    "gpuClass": "standard"
  },
  "nbformat": 4,
  "nbformat_minor": 0
}