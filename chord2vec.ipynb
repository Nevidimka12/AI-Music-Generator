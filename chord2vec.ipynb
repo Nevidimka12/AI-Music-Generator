{
 "cells": [
  {
   "cell_type": "markdown",
   "id": "b9b12ad4",
   "metadata": {},
   "source": [
    "# Обучение Модели word2vec на последовательности аккодрдов\n"
   ]
  },
  {
   "cell_type": "markdown",
   "id": "d1ae141b",
   "metadata": {},
   "source": [
    "## импортируем библиотеки"
   ]
  },
  {
   "cell_type": "code",
   "execution_count": null,
   "id": "6fcee98b",
   "metadata": {},
   "outputs": [],
   "source": [
    "import pandas\n",
    "import json\n",
    "import nltk\n",
    "from gensim.models import Word2Vec\n",
    "from nltk.tokenize import word_tokenize\n",
    "nltk.download('punkt')"
   ]
  },
  {
   "cell_type": "markdown",
   "id": "ef6f8402",
   "metadata": {},
   "source": [
    "## Загрузка извлеченных аккордов"
   ]
  },
  {
   "cell_type": "markdown",
   "id": "6fbd86b1",
   "metadata": {},
   "source": [
    "### Все данные по аккордам"
   ]
  },
  {
   "cell_type": "code",
   "execution_count": null,
   "id": "e709ea3d",
   "metadata": {},
   "outputs": [],
   "source": [
    "# file = open(\"D:/muz/musicDrumBeats/Chordino.json\")\n",
    "# f = json.load(file)\n",
    "# file = open(\"D:/muz/musicGitar/Chordino.json\")\n",
    "# f.update(json.load(file))\n",
    "# file = open(\"D:/muz/musicPiano/Chordino.json\")\n",
    "# f = json.load(file)\n",
    "# file = open(\"D:/muz/musicSaxophone/Chordino.json\")\n",
    "# f.update(json.load(file))\n",
    "# file = open(\"D:/muz/musicYixInstrumental/Chordino.json\")\n",
    "# f.update(json.load(file))\n",
    "# data = f"
   ]
  },
  {
   "cell_type": "markdown",
   "id": "c00a186e",
   "metadata": {},
   "source": [
    "### Отфильтрованные данные"
   ]
  },
  {
   "cell_type": "code",
   "execution_count": null,
   "id": "73f1b9dc",
   "metadata": {},
   "outputs": [],
   "source": [
    "file = open(\"data_new_filtr078.json\")\n",
    "data = json.load(file)"
   ]
  },
  {
   "cell_type": "markdown",
   "id": "0f9ad5ff",
   "metadata": {},
   "source": [
    "## Оставляем только аккорды"
   ]
  },
  {
   "cell_type": "code",
   "execution_count": null,
   "id": "bd6aa4f5",
   "metadata": {},
   "outputs": [],
   "source": [
    "table = []\n",
    "for i in data.values():\n",
    "    table.append(\" \".join(i[0::2]))\n",
    "table = [i.split(' ') for i in table]"
   ]
  },
  {
   "cell_type": "code",
   "execution_count": null,
   "id": "b5a05848",
   "metadata": {},
   "outputs": [],
   "source": [
    "print(table[0])"
   ]
  },
  {
   "cell_type": "markdown",
   "id": "3aa3eb45",
   "metadata": {},
   "source": [
    "## создаем модель word2vec (в будующем chord2vec)"
   ]
  },
  {
   "cell_type": "code",
   "execution_count": null,
   "id": "8cf23a58",
   "metadata": {
    "scrolled": true
   },
   "outputs": [],
   "source": [
    "model = Word2Vec(table, min_count=1)\n",
    "vocab = model.wv.key_to_index\n",
    "print(len(vocab))"
   ]
  },
  {
   "cell_type": "markdown",
   "id": "5faa5899",
   "metadata": {},
   "source": [
    "### Делаем проверку и тестируем"
   ]
  },
  {
   "cell_type": "code",
   "execution_count": null,
   "id": "ac2cae33",
   "metadata": {},
   "outputs": [],
   "source": [
    "model.wv.most_similar(\"F#\", topn=189)"
   ]
  },
  {
   "cell_type": "markdown",
   "id": "587b76a3",
   "metadata": {},
   "source": [
    "## Сохраняем модель для использования в будующих задачах"
   ]
  },
  {
   "cell_type": "code",
   "execution_count": null,
   "id": "1f5c2730",
   "metadata": {},
   "outputs": [],
   "source": [
    "model.save('chord2vecModel')"
   ]
  },
  {
   "cell_type": "markdown",
   "id": "cccd1f2f",
   "metadata": {},
   "source": [
    "## Делаем проверку на загрузку модели из файла"
   ]
  },
  {
   "cell_type": "code",
   "execution_count": null,
   "id": "880a5ed4",
   "metadata": {},
   "outputs": [],
   "source": [
    "chord2vec = Word2Vec.load('chord2vec')"
   ]
  },
  {
   "cell_type": "code",
   "execution_count": null,
   "id": "134d6908",
   "metadata": {},
   "outputs": [],
   "source": [
    "chord2vec.wv.distance"
   ]
  },
  {
   "cell_type": "code",
   "execution_count": null,
   "id": "90b97a05",
   "metadata": {},
   "outputs": [],
   "source": [
    "from gensim.models import Word2Vec\n",
    "\n",
    "# загрузить модель Word2Vec из файла\n",
    "model = Word2Vec.load('chord2vec')\n",
    "\n",
    "# получить векторное представление для слова \"apple\"\n",
    "vector = model.wv.get_vector('F#')\n",
    "print(vector)"
   ]
  },
  {
   "cell_type": "code",
   "execution_count": null,
   "id": "f61cf0f1",
   "metadata": {},
   "outputs": [],
   "source": []
  }
 ],
 "metadata": {
  "kernelspec": {
   "display_name": "Python 3 (ipykernel)",
   "language": "python",
   "name": "python3"
  },
  "language_info": {
   "codemirror_mode": {
    "name": "ipython",
    "version": 3
   },
   "file_extension": ".py",
   "mimetype": "text/x-python",
   "name": "python",
   "nbconvert_exporter": "python",
   "pygments_lexer": "ipython3",
   "version": "3.9.16"
  }
 },
 "nbformat": 4,
 "nbformat_minor": 5
}
