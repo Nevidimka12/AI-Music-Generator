{
 "cells": [
  {
   "cell_type": "markdown",
   "id": "98c106f2",
   "metadata": {},
   "source": [
    "## Подключение библиотек"
   ]
  },
  {
   "cell_type": "code",
   "execution_count": null,
   "id": "5c44720c",
   "metadata": {},
   "outputs": [],
   "source": [
    "import json\n",
    "import pandas as pd\n",
    "import os"
   ]
  },
  {
   "cell_type": "markdown",
   "id": "2869b1ab",
   "metadata": {},
   "source": [
    "## Функция создающая словарь, кодировки и декодировки аккордов."
   ]
  },
  {
   "cell_type": "code",
   "execution_count": null,
   "id": "8fceeda5",
   "metadata": {},
   "outputs": [],
   "source": [
    "def make_dict(chord):\n",
    "    res = {}\n",
    "    for i in range(len(chord)):\n",
    "        res[chord[i]] = i\n",
    "    return res"
   ]
  },
  {
   "cell_type": "markdown",
   "id": "a20cc511",
   "metadata": {},
   "source": [
    "## Загрузка json файлов, каждый файл отдельная папка на yandex disk."
   ]
  },
  {
   "cell_type": "code",
   "execution_count": null,
   "id": "2d612b87",
   "metadata": {},
   "outputs": [],
   "source": [
    "file = open(\".json\")\n",
    "f = json.load(file)\n",
    "file = open(\".json\")\n",
    "f.update(json.load(file))\n",
    "file = open(\".json\")\n",
    "f = json.load(file)\n",
    "file = open(\".json\")\n",
    "f.update(json.load(file))"
   ]
  },
  {
   "cell_type": "markdown",
   "id": "7a86c724",
   "metadata": {},
   "source": [
    "## Создание таблицы и json-файлов кодировки"
   ]
  },
  {
   "cell_type": "code",
   "execution_count": null,
   "id": "09f7b57d",
   "metadata": {},
   "outputs": [],
   "source": [
    "chords = []\n",
    "for i in f.keys():\n",
    "    for j in range(len(f[i])):\n",
    "        if j % 2 == 0:\n",
    "            chords.append(f[i][j])\n",
    "Code = make_dict(list(set(chords)))\n",
    "Decode = {v:k for k, v in Code.items()}\n",
    "Fulldata = []\n",
    "for i in f.keys():\n",
    "    if(len(f[i]) > 100):\n",
    "        data = []\n",
    "        for j in f[i]:\n",
    "            data.append(j)\n",
    "        Fulldata.append(data)"
   ]
  },
  {
   "cell_type": "code",
   "execution_count": null,
   "id": "c06a4f84",
   "metadata": {},
   "outputs": [],
   "source": [
    "n = min([len(i) for i in Fulldata] + [100])\n",
    "res = []\n",
    "for data in Fulldata:\n",
    "    res += [data[i:i+n] for i in range(0, len(data)-n+1, 2)]\n",
    "for i in range(len(res)):\n",
    "    for j in range(len(res[i])):\n",
    "        if res[i][j] in Code.keys():\n",
    "            res[i][j] = Code[res[i][j]]\n",
    "# Поделим в отношении 30/70\n",
    "l = int(len(res) * 0.7)\n",
    "\n",
    "train = pd.DataFrame(res[:l])\n",
    "test = pd.DataFrame(res[l:])\n",
    "train = train.drop_duplicates()\n",
    "test = test.drop_duplicates()\n",
    "train.rename(columns = {98 : 'target'}, inplace = True )\n",
    "test.rename(columns = {98 : 'target'}, inplace = True )"
   ]
  },
  {
   "cell_type": "code",
   "execution_count": null,
   "id": "3772c218",
   "metadata": {},
   "outputs": [],
   "source": [
    "hash_ = dict(train['target'].value_counts())\n",
    "delete = []\n",
    "for i in hash_.keys():\n",
    "    if hash_[i] < 10:\n",
    "        delete.append(i)\n",
    "for i in delete:    \n",
    "    train = train[train['target'] != i]"
   ]
  },
  {
   "cell_type": "code",
   "execution_count": null,
   "id": "025d8861",
   "metadata": {},
   "outputs": [],
   "source": [
    "hash_ = dict(test['target'].value_counts())\n",
    "delete = []\n",
    "for i in hash_.keys():\n",
    "    if hash_[i] < 10:\n",
    "        delete.append(i)\n",
    "for i in delete:    \n",
    "    test = test[test['target'] != i]"
   ]
  },
  {
   "cell_type": "markdown",
   "id": "92e823a2",
   "metadata": {},
   "source": [
    "## Загрузка в файлы"
   ]
  },
  {
   "cell_type": "code",
   "execution_count": null,
   "id": "62e008f7",
   "metadata": {},
   "outputs": [],
   "source": [
    "with open(\"Decode.json\", \"w\", encoding=\"utf-8\") as file:\n",
    "    json.dump(Decode, file)\n",
    "with open(\"Сode.json\", \"w\", encoding=\"utf-8\") as file:\n",
    "    json.dump(Code, file)\n",
    "    \n",
    "train.to_csv('TrainChordino.csv')\n",
    "test.to_csv('TestChordino.csv')"
   ]
  },
  {
   "cell_type": "code",
   "execution_count": null,
   "id": "31384d8e",
   "metadata": {},
   "outputs": [],
   "source": []
  },
  {
   "cell_type": "code",
   "execution_count": null,
   "id": "b5066324",
   "metadata": {},
   "outputs": [],
   "source": []
  }
 ],
 "metadata": {
  "kernelspec": {
   "display_name": "Python 3 (ipykernel)",
   "language": "python",
   "name": "python3"
  },
  "language_info": {
   "codemirror_mode": {
    "name": "ipython",
    "version": 3
   },
   "file_extension": ".py",
   "mimetype": "text/x-python",
   "name": "python",
   "nbconvert_exporter": "python",
   "pygments_lexer": "ipython3",
   "version": "3.9.13"
  }
 },
 "nbformat": 4,
 "nbformat_minor": 5
}
