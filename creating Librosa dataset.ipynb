{
 "cells": [
  {
   "cell_type": "markdown",
   "id": "98c106f2",
   "metadata": {},
   "source": [
    "## Подключение библиотек"
   ]
  },
  {
   "cell_type": "code",
   "execution_count": 1,
   "id": "5c44720c",
   "metadata": {},
   "outputs": [],
   "source": [
    "import json\n",
    "import pandas as pd\n",
    "import os"
   ]
  },
  {
   "cell_type": "markdown",
   "id": "a20cc511",
   "metadata": {},
   "source": [
    "## Загрузка json файлов, каждый файл отдельная папка на yandex disk."
   ]
  },
  {
   "cell_type": "code",
   "execution_count": 2,
   "id": "2d612b87",
   "metadata": {},
   "outputs": [],
   "source": [
    "file = open(\"C:/Users/olegt/Desktop/datasets/json/musicGitarLibrosa.json\")\n",
    "f = json.load(file)\n",
    "file = open(\".json\")\n",
    "f.update(json.load(file))\n",
    "file = open(\".json\")\n",
    "f = json.load(file)\n",
    "file = open(\".json\")\n",
    "f.update(json.load(file))\n",
    "file = open(\".json\")\n",
    "f = json.load(file)\n",
    "file = open(\".json\")\n",
    "f.update(json.load(file))"
   ]
  },
  {
   "cell_type": "markdown",
   "id": "7a86c724",
   "metadata": {},
   "source": [
    "## Создание таблицы "
   ]
  },
  {
   "cell_type": "code",
   "execution_count": 11,
   "id": "c06a4f84",
   "metadata": {},
   "outputs": [],
   "source": [
    "Fulldata = [] \n",
    "for i in f.keys():\n",
    "    Fulldata.append(f[i])\n",
    "n = 200\n",
    "res = []\n",
    "for data in Fulldata:\n",
    "    res += [data[i:i+n] for i in range(0,len(data) - len(data) % n,n)]\n",
    "# Поделим в отношении 30/70\n",
    "l = int(len(res) * 0.7)\n",
    "\n",
    "train = pd.DataFrame(res[:l])\n",
    "test = pd.DataFrame(res[l:])\n",
    "train = train.drop_duplicates()\n",
    "test = test.drop_duplicates()\n",
    "train.rename(columns = {199 : 'target'}, inplace = True )\n",
    "train = train.drop(198, axis = 1)\n",
    "test.rename(columns = {299 : 'target'}, inplace = True )"
   ]
  },
  {
   "cell_type": "markdown",
   "id": "92e823a2",
   "metadata": {},
   "source": [
    "## Загрузка в файлы"
   ]
  },
  {
   "cell_type": "code",
   "execution_count": 26,
   "id": "62e008f7",
   "metadata": {},
   "outputs": [],
   "source": [
    "train.to_csv('TrainLibrossa.csv')\n",
    "test.to_csv('TestLibrosa.csv')"
   ]
  }
 ],
 "metadata": {
  "kernelspec": {
   "display_name": "Python 3 (ipykernel)",
   "language": "python",
   "name": "python3"
  },
  "language_info": {
   "codemirror_mode": {
    "name": "ipython",
    "version": 3
   },
   "file_extension": ".py",
   "mimetype": "text/x-python",
   "name": "python",
   "nbconvert_exporter": "python",
   "pygments_lexer": "ipython3",
   "version": "3.9.13"
  }
 },
 "nbformat": 4,
 "nbformat_minor": 5
}
