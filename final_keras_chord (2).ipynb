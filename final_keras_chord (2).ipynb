{
  "cells": [
    {
      "cell_type": "code",
      "execution_count": null,
      "metadata": {
        "id": "4Oz8-KCnkuaP"
      },
      "outputs": [],
      "source": [
        "#imports\n",
        "\n",
        "!pip install keras-tuner\n",
        "!pip install scikeras\n",
        "import json\n",
        "import os\n",
        "import random\n",
        "import numpy as np\n",
        "import pandas as pd\n",
        "import matplotlib.pyplot as plt\n",
        "from keras.models import Sequential\n",
        "from keras.layers import LSTM, Dense, Dropout\n",
        "from sklearn.model_selection import train_test_split\n",
        "from tensorflow import keras\n",
        "import keras_tuner\n",
        "import tensorflow as tf\n",
        "from sklearn.model_selection import GridSearchCV\n",
        "from scikeras.wrappers import KerasClassifier\n",
        "from keras.utils import to_categorical"
      ]
    },
    {
      "cell_type": "code",
      "execution_count": null,
      "metadata": {
        "id": "HlKwQacolC6P"
      },
      "outputs": [],
      "source": [
        "#read_csv\n",
        "\n",
        "data = pd.read_csv('/content/drive/MyDrive/DataFrame.csv', index_col = 'Unnamed: 0' )"
      ]
    },
    {
      "cell_type": "code",
      "execution_count": null,
      "metadata": {
        "id": "ptlz4LcSlElH"
      },
      "outputs": [],
      "source": [
        "#data_for_model\n",
        "\n",
        "N = 200 #number_of_rows\n",
        "seq_len = 14 #size_of_window\n",
        "number_of_unique_chords = 193\n",
        "row_len = 100\n",
        "batch_len = 7\n",
        "\n",
        "\n",
        "X_dur = np.zeros((N*(row_len-seq_len), batch_len))\n",
        "X_chord = np.zeros((N*(row_len-seq_len), batch_len))\n",
        "Y = np.zeros((N*(row_len-seq_len), number_of_unique_chords))\n",
        "\n",
        "\n",
        "for i in range(N*(row_len-seq_len)):\n",
        "  row = data.iloc[i//(row_len-seq_len)]\n",
        "\n",
        "  for k in range(0, row_len-seq_len, 2):\n",
        "    x = row[k:k+seq_len-2] #slice\n",
        "    y = row[k+seq_len-2:k+seq_len]\n",
        "\n",
        "    for j in range(0, len(x)-1, 2):\n",
        "        chord = x[j]\n",
        "        duration = x[j+1]\n",
        "        X_chord[i][j//2] = chord\n",
        "        X_dur[i][j//2] = duration\n",
        "\n",
        "    validation_chord = y[0]\n",
        "    arr = np.zeros((1, number_of_unique_chords))\n",
        "    arr[0][int(validation_chord)] = 1\n",
        "    Y[i] = arr\n",
        "\n",
        "\n",
        "X_chord = to_categorical(X_chord)\n",
        "X_dur = (X_dur - X_dur.mean()) / X_dur.std()\n",
        "X = np.empty((N*(row_len-seq_len), batch_len, number_of_unique_chords+1))\n",
        "\n",
        "\n",
        "for i in range(N*(row_len-seq_len)):\n",
        "  for j in range(batch_len):\n",
        "      a = X_chord[i][j]\n",
        "      b = np.zeros((1,))\n",
        "      b[0] = X_dur[i][j]\n",
        "      c = np.concatenate((a, b), axis=0)\n",
        "      X[i][j] = c\n",
        "\n",
        "\n",
        "X_train, X_validation, y_train, y_validation = train_test_split(X, Y, random_state=42, test_size=0.2, shuffle=True)"
      ]
    },
    {
      "cell_type": "code",
      "execution_count": null,
      "metadata": {
        "id": "Mn756wyNuKt5"
      },
      "outputs": [],
      "source": [
        "#model\n",
        "\n",
        "model = Sequential()\n",
        "model.add(LSTM(256, activation = 'tanh', input_shape = (batch_len, number_of_unique_chords + 1)))\n",
        "model.add(Dropout(0.2))\n",
        "\n",
        "model.add(Dense(128, activation = 'tanh'))\n",
        "model.add(Dropout(0.2))\n",
        "\n",
        "model.add(Dense(256, activation = 'tanh'))\n",
        "model.add(Dropout(0.2))\n",
        "\n",
        "model.add(Dense(193, activation = 'softmax'))\n",
        "\n",
        "initial_learning_rate = 0.001\n",
        "lr_schedule = tf.keras.optimizers.schedules.InverseTimeDecay(\n",
        "    initial_learning_rate,\n",
        "    decay_steps=100,\n",
        "    decay_rate=0.9)\n",
        "\n",
        "opt = tf.keras.optimizers.Adam(\n",
        "    learning_rate = lr_schedule\n",
        ")\n",
        "\n",
        "model.compile(optimizer = opt ,loss = 'categorical_crossentropy', metrics = ['accuracy'])\n",
        "history = model.fit(X_train, y_train, validation_split = 0.2, epochs = 20, batch_size = 16)"
      ]
    },
    {
      "cell_type": "code",
      "execution_count": null,
      "metadata": {
        "id": "6MwgXvwxjUmo"
      },
      "outputs": [],
      "source": [
        "#save_model\n",
        "\n",
        "model.save('/content/drive/MyDrive/best_model_for_chords1')"
      ]
    },
    {
      "cell_type": "code",
      "execution_count": null,
      "metadata": {
        "colab": {
          "base_uri": "https://localhost:8080/",
          "height": 472
        },
        "id": "kUHRMaKMA12V",
        "outputId": "57505488-acde-4edc-b44a-cf4e89bfbe50"
      },
      "outputs": [
        {
          "output_type": "display_data",
          "data": {
            "text/plain": [
              "<Figure size 640x480 with 1 Axes>"
            ],
            "image/png": "[encoded data removed]"
          },
          "metadata": {}
        }
      ],
      "source": [
        "#plot\n",
        "\n",
        "plt.plot(history.history['loss'])\n",
        "plt.title('chord loss (categorical_crossentropy)')\n",
        "plt.ylabel('loss')\n",
        "plt.xlabel('epochs')\n",
        "plt.show()"
      ]
    },
    {
      "cell_type": "code",
      "execution_count": null,
      "metadata": {
        "id": "R_X-Lg1Ww02h",
        "colab": {
          "base_uri": "https://localhost:8080/"
        },
        "outputId": "d39ec342-e88a-453f-c062-2accbddb3530"
      },
      "outputs": [
        {
          "output_type": "stream",
          "name": "stdout",
          "text": [
            "1/1 [==============================] - 0s 134ms/step\n",
            "147\n"
          ]
        }
      ],
      "source": [
        "#test_for_one_chord\n",
        "\n",
        "t = np.reshape(X_validation[3], (1, 7, 194)) #you_can_choose_index_for_X_validation\n",
        "predicted_chord = model.predict(t)\n",
        "predicted_chord = np.argmax(predicted_chord)\n",
        "print(predicted_chord)"
      ]
    },
    {
      "cell_type": "code",
      "execution_count": null,
      "metadata": {
        "id": "yra49ImSnJXy"
      },
      "outputs": [],
      "source": [
        "#decode, encode, convert and filler\n",
        "from random import shuffle\n",
        "def decode_chord_data(chord_data):\n",
        "    file = open(\"/content/drive/MyDrive/Decode.json\")\n",
        "    decoder = json.load(file)\n",
        "    file.close()\n",
        "\n",
        "    res = []\n",
        "    for chord, duration in chord_data:\n",
        "        res.append((decoder[str(chord)], duration))\n",
        "\n",
        "    return res\n",
        "\n",
        "\n",
        "def encode_chord_data(chord_data):\n",
        "    file = open(\"/content/drive/MyDrive/Decode.json\")\n",
        "    decoder = json.load(file)\n",
        "    file.close()\n",
        "\n",
        "    encoder = dict()\n",
        "    for key, value in decoder.items():\n",
        "        encoder[value] = int(key)\n",
        "\n",
        "    res = []\n",
        "    for chord, duration in chord_data:\n",
        "        res.append((encoder[chord], duration))\n",
        "\n",
        "    return res\n",
        "\n",
        "\n",
        "def convert(arr):\n",
        "  new_arr = np.zeros((1, 7, 194))\n",
        "  for i in range(0, len(arr)//2-1, 2):\n",
        "    chord = arr[i]\n",
        "    new_arr[0][i][chord] = 1\n",
        "    if (i+1<len(arr)):\n",
        "      new_arr[0][i][193] = arr[i+1]\n",
        "  return new_arr\n",
        "\n",
        "def reverse(arr):\n",
        "    new_arr = []\n",
        "    for i in range(len(arr)-1, -1, -1):\n",
        "        new_arr.append(arr[i])\n",
        "    return new_arr\n",
        "\n",
        "def filler(arr):\n",
        "    for_model = []\n",
        "    while(len(for_model) < 15):\n",
        "        for_model += arr\n",
        "    for_model = for_model[len(for_model)-14:]\n",
        "    return for_model\n",
        "\n",
        "def shuffle_for_pair(arr):\n",
        "  new_arr = []\n",
        "  for i in range(0, len(arr)-1, 2):\n",
        "    new_arr.append((arr[i], arr[i+1]))\n",
        "  shuffle(new_arr)\n",
        "  y = []\n",
        "  for i in new_arr:\n",
        "    y.append(i[0])\n",
        "    y.append(i[1])\n",
        "  return y"
      ]
    },
    {
      "cell_type": "code",
      "execution_count": null,
      "metadata": {
        "id": "IsFicUPFlJ7G"
      },
      "outputs": [],
      "source": [
        "#predict\n",
        "\n",
        "def predict_sequence(chord_data, n):\n",
        "  chord_data = encode_chord_data(chord_data)\n",
        "  sequence = [i for p in chord_data for i in p]\n",
        "  result = list(chord_data)\n",
        "\n",
        "  seq = []\n",
        "  if len(sequence) > 14:\n",
        "        sequence = sequence[len(sequence)-14:]\n",
        "  elif len(sequence) < 14:\n",
        "      sequence = filler(sequence)\n",
        "  for i in range(0, len(sequence)-1, 2):\n",
        "        chord = sequence[i]\n",
        "        duration = sequence[i+1]\n",
        "        seq.append(chord)\n",
        "        seq.append(duration)\n",
        "  for i in range(n):\n",
        "    seq = shuffle_for_pair(seq)\n",
        "    seq_for_predict = convert(seq)\n",
        "    t = np.reshape(X_validation[i], (1, 7, 194))\n",
        "    predicted_chord = model.predict(seq_for_predict)\n",
        "    predicted_chord = int(np.argmax(predicted_chord))\n",
        "    predicted_duration = i/10 #Im_dur\n",
        "    seq.append(predicted_chord)\n",
        "    seq.append(predicted_duration)\n",
        "    seq = seq[2:]\n",
        "    result.append((predicted_chord, predicted_duration))\n",
        "\n",
        "  \n",
        "  return decode_chord_data(result)\n",
        "\n",
        "a = [(\"Am\", 2.0), (\"F\", 3.4), (\"Dm\", 4.5), (\"E\", 1.2), (\"Fm\", 1.55), (\"Cm\", 2.44)]\n",
        "print(predict_sequence(a, n = 7))"
      ]
    }
  ],
  "metadata": {
    "accelerator": "GPU",
    "colab": {
      "provenance": [],
      "gpuType": "T4"
    },
    "kernelspec": {
      "display_name": "Python 3",
      "name": "python3"
    },
    "language_info": {
      "name": "python"
    }
  },
  "nbformat": 4,
  "nbformat_minor": 0
}