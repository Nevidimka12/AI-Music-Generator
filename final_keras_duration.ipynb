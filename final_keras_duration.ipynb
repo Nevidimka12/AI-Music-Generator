{
  "cells": [
    {
      "cell_type": "code",
      "execution_count": null,
      "metadata": {
        "id": "4Oz8-KCnkuaP"
      },
      "outputs": [],
      "source": [
        "#imports\n",
        "\n",
        "!pip install keras-tuner\n",
        "!pip install scikeras\n",
        "import json\n",
        "import os\n",
        "import random\n",
        "import numpy as np\n",
        "import pandas as pd\n",
        "import matplotlib.pyplot as plt\n",
        "from keras.models import Sequential\n",
        "from keras.layers import LSTM, Dense, Dropout\n",
        "from sklearn.model_selection import train_test_split\n",
        "from tensorflow import keras\n",
        "import keras_tuner\n",
        "import tensorflow as tf\n",
        "from sklearn.model_selection import GridSearchCV\n",
        "from scikeras.wrappers import KerasClassifier\n",
        "from keras.utils import to_categorical"
      ]
    },
    {
      "cell_type": "code",
      "execution_count": null,
      "metadata": {
        "id": "HlKwQacolC6P"
      },
      "outputs": [],
      "source": [
        "#read_csv\n",
        "\n",
        "data = pd.read_csv('/content/drive/MyDrive/DataFrame.csv', index_col = 'Unnamed: 0' )"
      ]
    },
    {
      "cell_type": "code",
      "execution_count": null,
      "metadata": {
        "id": "ptlz4LcSlElH"
      },
      "outputs": [],
      "source": [
        "#data_for_model\n",
        "\n",
        "N = 2000 #number_of_rows\n",
        "seq_len = 10 #size_of_window\n",
        "number_of_unique_chords = 193\n",
        "row_len = 100\n",
        "batch_len = 7\n",
        "\n",
        "\n",
        "X_dur = np.zeros((N*seq_len, 4))\n",
        "X_chord = np.zeros((N*seq_len, 5))\n",
        "Y = np.zeros((N*seq_len, 1))\n",
        "\n",
        "\n",
        "for i in range(N*seq_len):\n",
        "\n",
        "  row = data.iloc[i//seq_len]\n",
        "\n",
        "  for k in range(0, row_len, seq_len):\n",
        "    x = row[k:k+9] #slice\n",
        "    y = row[k+9:k+10]\n",
        "\n",
        "    for j in range(0, len(x)-1, 2):\n",
        "        chord = x[j]\n",
        "        duration = x[j+1]\n",
        "        X_chord[i][j//2] = chord\n",
        "        X_dur[i][j//2] = duration\n",
        "    X_chord[i][4] = x[8]\n",
        "    Y[i] = y[0]\n",
        "\n",
        "X_dur = (X_dur - X_dur.mean()) / X_dur.std()\n",
        "X = np.empty((N*seq_len, 9, 1))\n",
        "\n",
        "for i in range(N*seq_len):\n",
        "  for j in range(0, 8, 2):\n",
        "      a = X_chord[i][j//2]\n",
        "      b = X_dur[i][j//2]\n",
        "      X[i][j] = a\n",
        "      X[i][j+1] = b\n",
        "  X[i][8] = X_chord[i][4]\n",
        "\n",
        "\n",
        "X_train, X_validation, y_train, y_validation = train_test_split(X, Y, random_state=42, test_size=0.2, shuffle=True)"
      ]
    },
    {
      "cell_type": "code",
      "execution_count": null,
      "metadata": {
        "id": "Mn756wyNuKt5"
      },
      "outputs": [],
      "source": [
        "#model\n",
        "\n",
        "model = Sequential()\n",
        "model.add(LSTM(64, activation = 'relu', input_shape = (9, 1)))\n",
        "model.add(Dropout(0.4))\n",
        "\n",
        "model.add(Dense(32, activation = 'relu'))\n",
        "model.add(Dropout(0.4))\n",
        "\n",
        "model.add(Dense(1, activation = 'relu'))\n",
        "\n",
        "initial_learning_rate = 0.01\n",
        "lr_schedule = tf.keras.optimizers.schedules.InverseTimeDecay(\n",
        "    initial_learning_rate,\n",
        "    decay_steps=100,\n",
        "    decay_rate=0.9)\n",
        "\n",
        "opt = tf.keras.optimizers.Adam(\n",
        "    learning_rate = lr_schedule\n",
        ")\n",
        "\n",
        "model.compile(optimizer = opt, loss = 'mse', metrics = ['mse'])\n",
        "history = model.fit(X_train, y_train, validation_split = 0.2, epochs = 40, batch_size = 16)"
      ]
    },
    {
      "cell_type": "code",
      "execution_count": null,
      "metadata": {
        "id": "R_X-Lg1Ww02h",
        "colab": {
          "base_uri": "https://localhost:8080/"
        },
        "outputId": "e48651f9-b186-46fd-b7eb-75264bbe7359"
      },
      "outputs": [
        {
          "output_type": "stream",
          "name": "stdout",
          "text": [
            "1/1 [==============================] - 0s 130ms/step\n",
            "[[2.2127]]\n"
          ]
        }
      ],
      "source": [
        "#test_for_one_chord\n",
        "\n",
        "t = np.reshape(X_validation[333], (1, 9, 1)) #you_can_choose_index_for_X_validation\n",
        "predicted_chord = model.predict(t)\n",
        "print(predicted_chord)"
      ]
    },
    {
      "cell_type": "code",
      "source": [
        "#decode, encode, convert and filler\n",
        "from random import shuffle\n",
        "def decode_chord_data(chord_data):\n",
        "    file = open(\"/content/drive/MyDrive/Decode.json\")\n",
        "    decoder = json.load(file)\n",
        "    file.close()\n",
        "\n",
        "    res = []\n",
        "    for chord, duration in chord_data:\n",
        "        res.append((decoder[str(chord)], duration))\n",
        "\n",
        "    return res\n",
        "\n",
        "\n",
        "def encode_chord_data(chord_data):\n",
        "    file = open(\"/content/drive/MyDrive/Decode.json\")\n",
        "    decoder = json.load(file)\n",
        "    file.close()\n",
        "\n",
        "    encoder = dict()\n",
        "    for key, value in decoder.items():\n",
        "        encoder[value] = int(key)\n",
        "\n",
        "    res = []\n",
        "    for chord, duration in chord_data:\n",
        "        res.append((encoder[chord], duration))\n",
        "\n",
        "    return res\n",
        "\n",
        "\n",
        "def convert(arr):\n",
        "  print(len(arr))\n",
        "  new_arr = np.zeros((1, 9, 1))\n",
        "  for i in range(0, len(arr)//2-1, 2):\n",
        "    new_arr[0][i][0] = arr[i]\n",
        "    new_arr[0][i][0] = arr[i+1]\n",
        "  new_arr[0][8][0] = arr[8]\n",
        "  return new_arr\n",
        "\n",
        "def filler(arr):\n",
        "    for_model = []\n",
        "    while(len(for_model) < 8):\n",
        "        for_model += arr\n",
        "    for_model = for_model[len(for_model)-9:len(for_model)-1]\n",
        "    return for_model\n",
        "\n",
        "def shuffle_for_pair(arr):\n",
        "  new_arr = []\n",
        "  for i in range(0, len(arr)-1, 2):\n",
        "    new_arr.append((arr[i], arr[i+1]))\n",
        "  shuffle(new_arr)\n",
        "  y = []\n",
        "  for i in new_arr:\n",
        "    y.append(i[0])\n",
        "    y.append(i[1])\n",
        "  return y\n",
        "\n",
        "def filler_for_chord(arr):\n",
        "  for_model = []\n",
        "  while(len(for_model) < 98):\n",
        "      for_model += arr\n",
        "  return for_model[:98]"
      ],
      "metadata": {
        "id": "0yr0OmA895e9"
      },
      "execution_count": null,
      "outputs": []
    },
    {
      "cell_type": "code",
      "execution_count": null,
      "metadata": {
        "id": "IsFicUPFlJ7G"
      },
      "outputs": [],
      "source": [
        "#predict\n",
        "\n",
        "def predict_sequence(chord_data, n):\n",
        "  chord_data = encode_chord_data(chord_data)\n",
        "  sequence_for_chord = [i for p in chord_data for i in p]\n",
        "  sequence_for_duration = [i for p in chord_data for i in p]\n",
        "  result = list(chord_data)\n",
        "\n",
        "#duration\n",
        "  seq_dur = []\n",
        "  if len(sequence_for_duration) > 8:\n",
        "        sequence_for_duration = sequence_for_duration[len(sequence_for_duration)-9:len(sequence_for_duration)-1]\n",
        "  elif len(sequence_for_duration) < 8:\n",
        "      sequence_for_duration = filler(sequence_for_duration)\n",
        "  for i in range(0, len(sequence_for_duration)-1, 2):\n",
        "        chord = sequence_for_duration[i]\n",
        "        duration = sequence_for_duration[i+1]\n",
        "        seq_dur.append(chord)\n",
        "        seq_dur.append(duration)\n",
        "\n",
        "#chord\n",
        "  if len(sequence_for_chord) > 98:\n",
        "      sequence_for_chord = sequence_for_chord[-98:]\n",
        "  elif len(sequence_for_chord) < 98:\n",
        "      sequence_for_chord = filler_for_chord(sequence_for_chord)\n",
        "\n",
        "  for i in range(n):\n",
        "    predicted_chord = int(model_for_chord.predict(data = sequence_for_chord))\n",
        "    seq_dur.append(predicted_chord)\n",
        "    seq_for_predict = convert(seq_dur)\n",
        "    predicted_duration = model.predict(seq_for_predict)[0][0]\n",
        "    seq_dur.append(predicted_duration)\n",
        "    sequence_for_chord.append(predicted_chord)\n",
        "    sequence_for_chord.append(predicted_duration)\n",
        "    sequence_for_chord = sequence_for_chord[2:]\n",
        "    seq_dur = seq_dur[2:]\n",
        "    result.append((predicted_chord, predicted_duration))\n",
        "\n",
        "\n",
        "  return decode_chord_data(result)\n",
        "\n",
        "a = [(\"Am\", 2.0), (\"F\", 3.4), (\"Dm\", 4.5), (\"E\", 1.2), (\"Fm\", 1.55), (\"Cm\", 2.44)]"
      ]
    }
  ],
  "metadata": {
    "colab": {
      "provenance": [],
      "gpuType": "T4",
      "toc_visible": true
    },
    "kernelspec": {
      "display_name": "Python 3",
      "name": "python3"
    },
    "language_info": {
      "name": "python"
    }
  },
  "nbformat": 4,
  "nbformat_minor": 0
}